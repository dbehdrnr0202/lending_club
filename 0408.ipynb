{
 "cells": [
  {
   "cell_type": "code",
   "execution_count": 29,
   "metadata": {},
   "outputs": [
    {
     "name": "stderr",
     "output_type": "stream",
     "text": [
      "/var/folders/4k/lxd3n8m934z_82zsdzv73d5r0000gn/T/ipykernel_7763/767680825.py:9: DtypeWarning: Columns (0) have mixed types. Specify dtype option on import or set low_memory=False.\n",
      "  origin_data = pd.read_csv(file_path)\n"
     ]
    },
    {
     "name": "stdout",
     "output_type": "stream",
     "text": [
      "77\n",
      "1133666\n"
     ]
    }
   ],
   "source": [
    "## 1. import libraries\n",
    "import pandas as pd\n",
    "import numpy as np\n",
    "\n",
    "## 2. file path and load csv\n",
    "# FOLDER_PATH = \"/codes/\" ## 파일 경로\n",
    "# file_path = FOLDER_PATH+\"lending_club_2020_train.csv\"\n",
    "file_path = \"/Users/admin/codes/jupyter_codes/data/lending_club_2020_train.csv\"\n",
    "origin_data = pd.read_csv(file_path)\n",
    "origin_data.head()\n",
    "\n",
    "## 3. drop할 컬럼들을 일단 처리한다.\n",
    "with open('drop_columns_0402.txt', mode='r') as f:\n",
    "    drop_fields = f.readlines()\n",
    "    drop_fields = [drop_field.strip('\\n') for drop_field in drop_fields]\n",
    "    \n",
    "drop_df = origin_data.drop(columns=drop_fields)\n",
    "\n",
    "# 컬럼 개수 출력\n",
    "print(len(drop_df.columns)) # 96\n",
    "\n",
    "## 4. 반응변수 처리\n",
    "# loan_status가 \"current\", \"issued\", \"policy\" 인 행을 필터링하여 삭제\n",
    "modified_df = drop_df[~drop_df['loan_status'].isin(['Current', 'Issued', 'Does not meet the credit policy. Status:Fully Paid', 'Does not meet the credit policy. Status:Charged Off'])]\n",
    "\n",
    "# risk = 1, safe = 0 으로 처리\n",
    "modified_df.loc[modified_df['loan_status'].isin(['Fully Paid', 'In Grace Period']), 'loan_status'] = 0\n",
    "modified_df.loc[modified_df['loan_status'].isin(['Charged Off', 'Default', 'Late (16-30 days)', 'Late (31-120 days)']), 'loan_status'] = 1\n",
    "\n",
    "print(len(modified_df)) # 1133666\n",
    "\n",
    "\n",
    "## 5. 데이터 처리용 함수\n",
    "def delete_suffix(term:str)->int:\n",
    "    '''첫 단어만을 저장하는 함수'''\n",
    "    term = term.strip().split()[0]\n",
    "    return int(term)\n",
    "\n",
    "def delete_suffix_percentage(term:str)->float:\n",
    "    '''%를 자르는 함수'''\n",
    "    term = term.strip('%')\n",
    "    return float(term)\n",
    "\n",
    "def delete_suffix_xx(term:str)->int:\n",
    "    '''xx를 자르는 함수'''\n",
    "    term = term.strip('xx')\n",
    "    return int(term)\n",
    "\n",
    "def apply_to_multiple_columns(date_columns:list)->None:\n",
    "    '''modified_df에서 %b-%Y(Aug-2006) 형식의 날짜 정보를 %Y-%m-%d(2006-08-01)형태로 저장하는 함수'''\n",
    "    for col in date_columns:\n",
    "        modified_df[col]=pd.to_datetime(modified_df[col], format='%b-%Y')"
   ]
  },
  {
   "cell_type": "code",
   "execution_count": 30,
   "metadata": {},
   "outputs": [],
   "source": [
    "## 1. import libraries\n",
    "import pandas as pd\n",
    "import numpy as np\n",
    "\n",
    "## 2. file path and load csv\n",
    "# FOLDER_PATH = \"/codes/\" ## 파일 경로\n",
    "# file_path = FOLDER_PATH+\"lending_club_2020_train.csv\"\n",
    "file_path = \"data/filtered_lending_club_data.csv\"\n",
    "origin_data = pd.read_csv(file_path)\n",
    "origin_data.head()\n",
    "filtered_df = origin_data"
   ]
  },
  {
   "cell_type": "code",
   "execution_count": 31,
   "metadata": {},
   "outputs": [],
   "source": [
    "filtered_df = filtered_df.dropna(subset=filtered_df.columns.difference(['loan_status']),how='all')"
   ]
  },
  {
   "cell_type": "code",
   "execution_count": null,
   "metadata": {},
   "outputs": [],
   "source": [
    "from typing import Union\n",
    "# 최빈값으로 대체하는 함수 작성\n",
    "def fill_na_with_value(df, column_name:str, filling_value:Union[str, int])->None:\n",
    "    '''\n",
    "    df: dataframe to fill NA\n",
    "    column_name : column name to change NA values\n",
    "    filling_value : value type or just value to fill column's NA\n",
    "    '''\n",
    "    if filling_value==\"mode\":\n",
    "        mode_value = df[column_name].mode()[0]\n",
    "    elif filling_value==\"median\":\n",
    "        mode_value = df[column_name].median()\n",
    "    else:\n",
    "        mode_value = filling_value\n",
    "    df[column_name].fillna(mode_value, inplace=True)"
   ]
  },
  {
   "cell_type": "code",
   "execution_count": null,
   "metadata": {},
   "outputs": [],
   "source": [
    "fill_na_with_value()"
   ]
  },
  {
   "cell_type": "code",
   "execution_count": 32,
   "metadata": {},
   "outputs": [
    {
     "name": "stdout",
     "output_type": "stream",
     "text": [
      "(1131682, 72)\n",
      "(1131682, 72)\n"
     ]
    }
   ],
   "source": [
    "## 6. 결측 처리\n",
    "# 6-1) 결측 개수가 1천 건 이하인 경우는 해당 데이터(row) 삭제\n",
    "filtered_df = filtered_df.dropna(subset=['chargeoff_within_12_mths','collections_12_mths_ex_med','dti',\n",
    "                                         'pub_rec_bankruptcies','revol_util'])\n",
    "print(filtered_df.shape) # (1131682, 79)\n",
    "\n",
    "# 6-2) 대체하기 어려운 변수 또는 결측이 많은 변수 삭제\n",
    "print(filtered_df.shape) #(1131682, 72)\n",
    "\n",
    "# 6-3) 결측 대체\n",
    "# A. joint 관련 변수 : 결측 0 대체\n",
    "\n",
    "\n",
    "\n",
    "# B. 최빈값 대체\n",
    "filtered_df['mo_sin_old_il_acct'] = filtered_df['mo_sin_old_il_acct'].fillna(129)\n",
    "filtered_df['mths_since_recent_bc'] = filtered_df['mths_since_recent_bc'].fillna(13)\n",
    "filtered_df['mths_since_recent_inq'] = filtered_df['mths_since_recent_inq'].fillna(5)\n",
    "filtered_df['bc_open_to_buy'] = filtered_df['bc_open_to_buy'].fillna(5200.0)\n",
    "filtered_df['emp_length'] = filtered_df['emp_length'].fillna('10+ years')\n",
    "\n",
    "# C. 2012년 대체\n",
    "### 업데이트예정 ###\n",
    "\n",
    "\n",
    "# D. 2015년 대체\n",
    "### 업데이트 예정 ###\n",
    "\n"
   ]
  },
  {
   "cell_type": "code",
   "execution_count": 33,
   "metadata": {},
   "outputs": [],
   "source": [
    "from sklearn.datasets import make_classification\n",
    "from sklearn.feature_selection import RFE, RFECV\n",
    "from sklearn.linear_model import LogisticRegression"
   ]
  },
  {
   "cell_type": "code",
   "execution_count": 40,
   "metadata": {},
   "outputs": [],
   "source": [
    "y_train = filtered_df['loan_status']\n",
    "X_train = filtered_df[['acc_now_delinq','annual_inc', 'delinq_2yrs', 'delinq_amnt','inq_last_6mths', 'loan_amnt',\n",
    "'open_acc','pub_rec','revol_bal','term','total_acc']]"
   ]
  },
  {
   "cell_type": "code",
   "execution_count": 41,
   "metadata": {},
   "outputs": [
    {
     "data": {
      "text/html": [
       "<div>\n",
       "<style scoped>\n",
       "    .dataframe tbody tr th:only-of-type {\n",
       "        vertical-align: middle;\n",
       "    }\n",
       "\n",
       "    .dataframe tbody tr th {\n",
       "        vertical-align: top;\n",
       "    }\n",
       "\n",
       "    .dataframe thead th {\n",
       "        text-align: right;\n",
       "    }\n",
       "</style>\n",
       "<table border=\"1\" class=\"dataframe\">\n",
       "  <thead>\n",
       "    <tr style=\"text-align: right;\">\n",
       "      <th></th>\n",
       "      <th>acc_now_delinq</th>\n",
       "      <th>annual_inc</th>\n",
       "      <th>delinq_2yrs</th>\n",
       "      <th>delinq_amnt</th>\n",
       "      <th>inq_last_6mths</th>\n",
       "      <th>loan_amnt</th>\n",
       "      <th>open_acc</th>\n",
       "      <th>pub_rec</th>\n",
       "      <th>revol_bal</th>\n",
       "      <th>term</th>\n",
       "      <th>total_acc</th>\n",
       "    </tr>\n",
       "  </thead>\n",
       "  <tbody>\n",
       "    <tr>\n",
       "      <th>0</th>\n",
       "      <td>0.0</td>\n",
       "      <td>45000.0</td>\n",
       "      <td>1.0</td>\n",
       "      <td>0.0</td>\n",
       "      <td>0.0</td>\n",
       "      <td>6000.0</td>\n",
       "      <td>14.0</td>\n",
       "      <td>0.0</td>\n",
       "      <td>3090.0</td>\n",
       "      <td>36</td>\n",
       "      <td>36.0</td>\n",
       "    </tr>\n",
       "    <tr>\n",
       "      <th>1</th>\n",
       "      <td>0.0</td>\n",
       "      <td>110000.0</td>\n",
       "      <td>1.0</td>\n",
       "      <td>0.0</td>\n",
       "      <td>1.0</td>\n",
       "      <td>23200.0</td>\n",
       "      <td>24.0</td>\n",
       "      <td>0.0</td>\n",
       "      <td>16909.0</td>\n",
       "      <td>60</td>\n",
       "      <td>60.0</td>\n",
       "    </tr>\n",
       "    <tr>\n",
       "      <th>2</th>\n",
       "      <td>0.0</td>\n",
       "      <td>65000.0</td>\n",
       "      <td>0.0</td>\n",
       "      <td>0.0</td>\n",
       "      <td>0.0</td>\n",
       "      <td>16000.0</td>\n",
       "      <td>18.0</td>\n",
       "      <td>0.0</td>\n",
       "      <td>3881.0</td>\n",
       "      <td>36</td>\n",
       "      <td>28.0</td>\n",
       "    </tr>\n",
       "    <tr>\n",
       "      <th>3</th>\n",
       "      <td>0.0</td>\n",
       "      <td>50000.0</td>\n",
       "      <td>0.0</td>\n",
       "      <td>0.0</td>\n",
       "      <td>0.0</td>\n",
       "      <td>4500.0</td>\n",
       "      <td>7.0</td>\n",
       "      <td>2.0</td>\n",
       "      <td>6824.0</td>\n",
       "      <td>36</td>\n",
       "      <td>9.0</td>\n",
       "    </tr>\n",
       "    <tr>\n",
       "      <th>4</th>\n",
       "      <td>0.0</td>\n",
       "      <td>60000.0</td>\n",
       "      <td>0.0</td>\n",
       "      <td>0.0</td>\n",
       "      <td>0.0</td>\n",
       "      <td>20000.0</td>\n",
       "      <td>19.0</td>\n",
       "      <td>0.0</td>\n",
       "      <td>16626.0</td>\n",
       "      <td>36</td>\n",
       "      <td>40.0</td>\n",
       "    </tr>\n",
       "  </tbody>\n",
       "</table>\n",
       "</div>"
      ],
      "text/plain": [
       "   acc_now_delinq  annual_inc  delinq_2yrs  delinq_amnt  inq_last_6mths  \\\n",
       "0             0.0     45000.0          1.0          0.0             0.0   \n",
       "1             0.0    110000.0          1.0          0.0             1.0   \n",
       "2             0.0     65000.0          0.0          0.0             0.0   \n",
       "3             0.0     50000.0          0.0          0.0             0.0   \n",
       "4             0.0     60000.0          0.0          0.0             0.0   \n",
       "\n",
       "   loan_amnt  open_acc  pub_rec  revol_bal  term  total_acc  \n",
       "0     6000.0      14.0      0.0     3090.0    36       36.0  \n",
       "1    23200.0      24.0      0.0    16909.0    60       60.0  \n",
       "2    16000.0      18.0      0.0     3881.0    36       28.0  \n",
       "3     4500.0       7.0      2.0     6824.0    36        9.0  \n",
       "4    20000.0      19.0      0.0    16626.0    36       40.0  "
      ]
     },
     "execution_count": 41,
     "metadata": {},
     "output_type": "execute_result"
    }
   ],
   "source": [
    "X_train.head()"
   ]
  },
  {
   "cell_type": "code",
   "execution_count": 42,
   "metadata": {},
   "outputs": [
    {
     "data": {
      "text/plain": [
       "0    0\n",
       "1    1\n",
       "2    1\n",
       "3    0\n",
       "4    0\n",
       "Name: loan_status, dtype: int64"
      ]
     },
     "execution_count": 42,
     "metadata": {},
     "output_type": "execute_result"
    }
   ],
   "source": [
    "y_train.head()"
   ]
  },
  {
   "cell_type": "code",
   "execution_count": 43,
   "metadata": {},
   "outputs": [],
   "source": [
    "estimator = LogisticRegression() # 학습시킬 모델 지정\n",
    "selector = RFECV(estimator, step=1, cv = 5, min_features_to_select=20) # 한 step에 제거할 featrue 개수 및 cross validation fold 수 지정\n",
    "selector = selector.fit(X_train, y_train)"
   ]
  },
  {
   "cell_type": "code",
   "execution_count": 44,
   "metadata": {},
   "outputs": [
    {
     "data": {
      "text/plain": [
       "Index(['acc_now_delinq', 'annual_inc', 'delinq_2yrs', 'delinq_amnt',\n",
       "       'inq_last_6mths', 'loan_amnt', 'open_acc', 'pub_rec', 'revol_bal',\n",
       "       'term', 'total_acc'],\n",
       "      dtype='object')"
      ]
     },
     "execution_count": 44,
     "metadata": {},
     "output_type": "execute_result"
    }
   ],
   "source": [
    "selected_columns = X_train.columns[selector.support_]\n",
    "\n",
    "selected_columns"
   ]
  },
  {
   "cell_type": "code",
   "execution_count": 45,
   "metadata": {},
   "outputs": [
    {
     "data": {
      "text/plain": [
       "11"
      ]
     },
     "execution_count": 45,
     "metadata": {},
     "output_type": "execute_result"
    }
   ],
   "source": [
    "selector.support_.sum()"
   ]
  },
  {
   "cell_type": "code",
   "execution_count": null,
   "metadata": {},
   "outputs": [],
   "source": []
  }
 ],
 "metadata": {
  "kernelspec": {
   "display_name": "tf",
   "language": "python",
   "name": "tf"
  },
  "language_info": {
   "codemirror_mode": {
    "name": "ipython",
    "version": 3
   },
   "file_extension": ".py",
   "mimetype": "text/x-python",
   "name": "python",
   "nbconvert_exporter": "python",
   "pygments_lexer": "ipython3",
   "version": "3.11.5"
  }
 },
 "nbformat": 4,
 "nbformat_minor": 2
}
