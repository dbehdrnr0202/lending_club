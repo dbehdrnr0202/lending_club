{
 "cells": [
  {
   "cell_type": "code",
   "execution_count": 1,
   "metadata": {},
   "outputs": [],
   "source": [
    "import pandas as pd\n",
    "import numpy as np\n",
    "import warnings\n",
    "import tensorflow as tf\n",
    "from tensorflow import keras\n",
    "from tensorflow.keras.utils import to_categorical\n",
    "from tensorflow.python.keras import callbacks\n",
    "from keras import backend as K\n",
    "from keras.wrappers.scikit_learn import KerasClassifier\n",
    "from sklearn.model_selection import train_test_split\n",
    "from sklearn.decomposition import PCA\n",
    "from sklearn.preprocessing import StandardScaler\n",
    "from sklearn.model_selection import RandomizedSearchCV\n",
    "from keras.layers import Dense, Dropout\n",
    "from sklearn.model_selection import KFold\n",
    "from keras.optimizers import Adam, SGD\n",
    "from keras.callbacks import EarlyStopping\n",
    "\n",
    "warnings.filterwarnings(action='ignore')\n",
    "tf.config.set_visible_devices([], 'GPU')"
   ]
  },
  {
   "cell_type": "code",
   "execution_count": 2,
   "metadata": {},
   "outputs": [
    {
     "data": {
      "text/plain": [
       "(1131682, 92)"
      ]
     },
     "execution_count": 2,
     "metadata": {},
     "output_type": "execute_result"
    }
   ],
   "source": [
    "df = pd.read_csv(\"data/modified_0419.csv\")\n",
    "df.shape"
   ]
  },
  {
   "cell_type": "code",
   "execution_count": 3,
   "metadata": {},
   "outputs": [],
   "source": [
    "import pandas as pd\n",
    "import numpy as np\n",
    "from typing import Union, List\n",
    "'''\n",
    "도은수정 - 0420 버전\n",
    "- 결측 처리 완료\n",
    "- 로그변환 추가\n",
    "- 다중공선성 : fico_avg 변수 추가\n",
    "'''\n",
    "class Preprocessor0420:\n",
    "    def __init__(self):\n",
    "        self.file_path = \"\"\n",
    "        self.folder_path = \"\"\n",
    "        self.df = pd.DataFrame()\n",
    "\n",
    "    def __init__(self, data_file_path:str=\"\", folder_path:str=\"\"):\n",
    "        self.file_path = data_file_path\n",
    "        self.folder_path = folder_path\n",
    "        self.df = pd.DataFrame()\n",
    "\n",
    "    def load_origin_file(self, file_path:str)->None:\n",
    "        if file_path!=\"\":\n",
    "            self.file_path = file_path\n",
    "        self.df = pd.read_csv(self.file_path)\n",
    "\n",
    "    def load_modified_file(self, file_path:str)->None:\n",
    "        if file_path!=\"\":\n",
    "            self.file_path = file_path\n",
    "        self.df = pd.read_csv(self.file_path)\n",
    "        if 'Unnamed: 0' in self.df.columns:\n",
    "            self.df.drop(columns=['Unnamed: 0'], inplace=True)\n",
    "\n",
    "    def drop_columns(self, drop_columns_file_path:str)->None:\n",
    "        return None\n",
    "\n",
    "    def __preprocess_target_variable(self, target_variable:str=\"loan_status\")->None:\n",
    "        return None\n",
    "\n",
    "    def __fill_na_with_value(self, columns:List[str], filling_value:Union[str, int])->None:\n",
    "        '''\n",
    "        df: dataframe to fill NA\n",
    "        column_name : column name to change NA values\n",
    "        filling_value : value type or just value to fill column's NA\n",
    "        '''\n",
    "        # for column_name in columns:\n",
    "        #     if filling_value==\"mode\":\n",
    "        #         mode_value = self.df[column_name].mode()[0]\n",
    "        #     elif filling_value==\"median\":\n",
    "        #         mode_value = self.df[column_name].median()\n",
    "        #     else:\n",
    "        #         mode_value = filling_value\n",
    "        #     self.df[column_name].fillna(mode_value, inplace=True)\n",
    "        return None\n",
    "\n",
    "    def __preprocessing_na(self)->None:\n",
    "        ## 결측 처리\n",
    "        # 결측 개수가 1천 건 이하인 경우는 해당 데이터(row) 삭제\n",
    "        # A1. 최빈값 대체\n",
    "        # A2. 중앙값 대체\n",
    "        # B. 2015년 대체\n",
    "        # C. 2012년 대체\n",
    "        # D. 결측 0 대체\n",
    "        return None\n",
    "\n",
    "    def __Multicollinearity(self)->None:\n",
    "        # self.df.drop(columns=['fico_range_low'], inplace=True)\n",
    "        self.df['fico_avg'] = (self.df['fico_range_low'] + self.df['fico_range_high'])/2\n",
    "        self.df.drop(columns=['fico_range_low', 'fico_range_high'], inplace=True)\n",
    "\n",
    "    def __convert_log(self, term):\n",
    "        return np.log(term + 1)\n",
    "\n",
    "    def __log_transform(self):\n",
    "        variables = [\n",
    "          \"all_util\", \"annual_inc\", \"annual_inc_joint\", \"bc_open_to_buy\", # \"avg_cur_bal\",\n",
    "          \"delinq_amnt\", \"dti\", \"max_bal_bc\", \"mo_sin_old_il_acct\", \"mo_sin_old_rev_tl_op\",\n",
    "          \"mo_sin_rcnt_rev_tl_op\", \"mo_sin_rcnt_tl\", \"mort_acc\", \"mths_since_rcnt_il\",\n",
    "          \"mths_since_recent_bc\", \"num_accts_ever_120_pd\", \"num_actv_bc_tl\", \"num_actv_rev_tl\",\n",
    "          \"num_bc_sats\", \"num_bc_tl\", \"num_il_tl\", \"num_op_rev_tl\", \"num_rev_accts\",\n",
    "          \"num_rev_tl_bal_gt_0\", \"num_sats\", \"open_acc\", \"open_acc_6m\", \"open_act_il\",\n",
    "          \"open_il_12m\", \"open_il_24m\", \"open_rv_12m\", \"open_rv_24m\", \"pub_rec_bankruptcies\",\n",
    "          \"revol_bal\", \"revol_bal_joint\", \"tax_liens\", \"tot_cur_bal\", \"tot_hi_cred_lim\",\n",
    "          \"total_acc\", \"total_bal_ex_mort\", \"total_bal_il\", \"total_bc_limit\", \"total_cu_tl\",\n",
    "          \"total_il_high_credit_limit\", \"total_rev_hi_lim\"\n",
    "        ]\n",
    "\n",
    "        # 각 변수에 대해 로그 변환 수행 및 기존 변수 삭제\n",
    "        for var in variables:\n",
    "            # 로그 변환 후 변수 이름에 '_log'를 추가하여 새로운 변수 생성\n",
    "            new_var = var + \"_log\"\n",
    "            # 해당 변수가 0보다 큰 경우에만 로그 변환 수행하여 음수 무한대를 방지\n",
    "            # 로그 변환 후에는 기존 값이 0인 경우 음수 무한대로 처리되므로 이에 대한 처리도 필요\n",
    "            # 여기서 로그는 자연로그 (밑이 e인 로그)\n",
    "            self.df[new_var] = np.log(self.df[var] + 1)  # 0이 아닌 값이어야 하므로 +1 추가\n",
    "            # 기존 변수 삭제\n",
    "            self.df.drop(columns=[var], inplace=True)\n",
    "        return self.df\n",
    "\n",
    "    def __convert_object_to_numeric(self, column_name:str)->pd.DataFrame:\n",
    "        return None\n",
    "\n",
    "    def __convert_object_to_one_hot(self, column_name:str)->None:\n",
    "        return None\n",
    "\n",
    "    def __preprocessing_objects(self)->None:\n",
    "        return None\n",
    "\n",
    "    def preprocess(self)->None:\n",
    "        # loan_status 제외 모든 column이 결측치(na)인 행 제거 (1개 행 제거됨)\n",
    "        self.df.dropna(subset=self.df.columns.difference(['loan_status']),how='all', inplace=True)\n",
    "        self.__preprocess_target_variable()\n",
    "        # 결측치 제거\n",
    "        self.__preprocessing_na()\n",
    "        ## object 처리하기\n",
    "        self.__preprocessing_objects()\n",
    "        ## 다중공선성 제거 - 0419 추가\n",
    "        self.__Multicollinearity()\n",
    "        ## 로그변환 - 0419 추가\n",
    "        # self.__log_transform()\n",
    "        # index 재설정\n",
    "        self.df.reset_index(drop=True, inplace=True)\n",
    "        self.df.dropna(subset=self.df.columns.difference(['loan_status']),how='all', inplace=True)\n",
    "\n",
    "    def get_df(self)->pd.DataFrame:\n",
    "        return self.df"
   ]
  },
  {
   "cell_type": "code",
   "execution_count": 4,
   "metadata": {},
   "outputs": [
    {
     "data": {
      "text/plain": [
       "(1131682, 90)"
      ]
     },
     "execution_count": 4,
     "metadata": {},
     "output_type": "execute_result"
    }
   ],
   "source": [
    "p = Preprocessor0420()\n",
    "# lending_club_2020_train.csv 파일이 있는 절대 경로 혹은 상대 경로를 명시해주세요\n",
    "p.load_modified_file(file_path=\"data/modified_0419.csv\")\n",
    "# preprocess를 돌리기\n",
    "p.preprocess()\n",
    "df = p.get_df()\n",
    "df.shape"
   ]
  },
  {
   "cell_type": "code",
   "execution_count": 5,
   "metadata": {},
   "outputs": [],
   "source": [
    "df.to_csv(\"data/modified_0420_non_log.csv\")"
   ]
  },
  {
   "cell_type": "code",
   "execution_count": null,
   "metadata": {},
   "outputs": [],
   "source": []
  }
 ],
 "metadata": {
  "kernelspec": {
   "display_name": "tf_python_310",
   "language": "python",
   "name": "python3"
  },
  "language_info": {
   "codemirror_mode": {
    "name": "ipython",
    "version": 3
   },
   "file_extension": ".py",
   "mimetype": "text/x-python",
   "name": "python",
   "nbconvert_exporter": "python",
   "pygments_lexer": "ipython3",
   "version": "3.10.13"
  }
 },
 "nbformat": 4,
 "nbformat_minor": 2
}
