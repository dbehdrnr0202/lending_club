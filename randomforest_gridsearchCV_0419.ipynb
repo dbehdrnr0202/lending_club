{
 "cells": [
  {
   "cell_type": "code",
   "execution_count": 1,
   "metadata": {},
   "outputs": [],
   "source": [
    "import pandas as pd\n",
    "import numpy as np\n",
    "import warnings\n",
    "from sklearn.metrics import accuracy_score\n",
    "from sklearn.ensemble import RandomForestClassifier\n",
    "from sklearn.model_selection import train_test_split\n",
    "from sklearn.model_selection import GridSearchCV\n",
    "from sklearn.model_selection import KFold\n",
    "\n",
    "warnings.filterwarnings(action='ignore')"
   ]
  },
  {
   "cell_type": "code",
   "execution_count": 2,
   "metadata": {},
   "outputs": [],
   "source": [
    "df = pd.read_csv(\"data/modified_0420.csv\")"
   ]
  },
  {
   "cell_type": "code",
   "execution_count": 4,
   "metadata": {},
   "outputs": [
    {
     "data": {
      "text/plain": [
       "Index(['Unnamed: 0', 'loan_amnt', 'term', 'int_rate', 'installment',\n",
       "       'sub_grade', 'emp_length', 'loan_status', 'delinq_2yrs',\n",
       "       'inq_last_6mths', 'pub_rec', 'revol_util', 'collections_12_mths_ex_med',\n",
       "       'application_type', 'dti_joint', 'acc_now_delinq',\n",
       "       'chargeoff_within_12_mths', 'mths_since_recent_inq', 'num_tl_120dpd_2m',\n",
       "       'num_tl_30dpd', 'num_tl_90g_dpd_24m', 'num_tl_op_past_12m',\n",
       "       'pct_tl_nvr_dlq', 'is_after_2015', 'is_after_2012', 'MORTGAGE',\n",
       "       'OTHERS', 'OWN', 'RENT', 'car', 'credit_card', 'debt_consolidation',\n",
       "       'educational', 'home_improvement', 'house', 'major_purchase', 'medical',\n",
       "       'moving', 'other', 'renewable_energy', 'small_business', 'vacation',\n",
       "       'wedding', 'Not Verified', 'Source Verified', 'Verified', 'fico_avg',\n",
       "       'all_util_log', 'annual_inc_log', 'annual_inc_joint_log',\n",
       "       'bc_open_to_buy_log', 'delinq_amnt_log', 'dti_log', 'max_bal_bc_log',\n",
       "       'mo_sin_old_il_acct_log', 'mo_sin_old_rev_tl_op_log',\n",
       "       'mo_sin_rcnt_rev_tl_op_log', 'mo_sin_rcnt_tl_log', 'mort_acc_log',\n",
       "       'mths_since_rcnt_il_log', 'mths_since_recent_bc_log',\n",
       "       'num_accts_ever_120_pd_log', 'num_actv_bc_tl_log',\n",
       "       'num_actv_rev_tl_log', 'num_bc_sats_log', 'num_bc_tl_log',\n",
       "       'num_il_tl_log', 'num_op_rev_tl_log', 'num_rev_accts_log',\n",
       "       'num_rev_tl_bal_gt_0_log', 'num_sats_log', 'open_acc_log',\n",
       "       'open_acc_6m_log', 'open_act_il_log', 'open_il_12m_log',\n",
       "       'open_il_24m_log', 'open_rv_12m_log', 'open_rv_24m_log',\n",
       "       'pub_rec_bankruptcies_log', 'revol_bal_log', 'revol_bal_joint_log',\n",
       "       'tax_liens_log', 'tot_cur_bal_log', 'tot_hi_cred_lim_log',\n",
       "       'total_acc_log', 'total_bal_ex_mort_log', 'total_bal_il_log',\n",
       "       'total_bc_limit_log', 'total_cu_tl_log',\n",
       "       'total_il_high_credit_limit_log', 'total_rev_hi_lim_log'],\n",
       "      dtype='object')"
      ]
     },
     "execution_count": 4,
     "metadata": {},
     "output_type": "execute_result"
    }
   ],
   "source": [
    "df.columns"
   ]
  },
  {
   "cell_type": "code",
   "execution_count": null,
   "metadata": {},
   "outputs": [],
   "source": [
    "x_train = df.drop(columns=['loan_status','Unnamed: 0'])\n",
    "y_train = df['loan_status']"
   ]
  },
  {
   "cell_type": "code",
   "execution_count": 8,
   "metadata": {},
   "outputs": [],
   "source": [
    "nan_indices = np.isnan(x_train).any(axis=1)\n",
    "x_train = x_train[~nan_indices]\n",
    "y_train = y_train[~nan_indices]\n",
    "x_train, x_validation, y_train, y_validation = train_test_split(x_train, y_train, test_size=0.2, stratify=y_train)"
   ]
  },
  {
   "cell_type": "code",
   "execution_count": 9,
   "metadata": {},
   "outputs": [],
   "source": [
    "model = RandomForestClassifier()"
   ]
  },
  {
   "cell_type": "code",
   "execution_count": 10,
   "metadata": {},
   "outputs": [],
   "source": [
    "params = { 'n_estimators' : [10, 30, 50],\n",
    "           'max_depth' : [6, 8, 10, 12],\n",
    "           'min_samples_leaf' : [8, 12, 18],\n",
    "           'min_samples_split' : [8, 16, 20]\n",
    "            }\n",
    "kfold = KFold(random_state=30,\n",
    "           n_splits=5,\n",
    "           shuffle=True\n",
    "          )\n",
    "# RandomForestClassifier 객체 생성 후 GridSearchCV 수행\n",
    "rf_clf = RandomForestClassifier(random_state = 0, n_jobs = -1)\n",
    "grid_search = GridSearchCV(rf_clf, param_grid = params, cv = kfold, n_jobs = -1)\n",
    "grid_search.fit(x_train, y_train)\n",
    "\n",
    "# 최적의 param\n",
    "print(f\"Best params: {grid_search.best_params_}\")\n",
    "# 최적의 param일 경우 최적의 accuracy\n",
    "print(f\"Best average accuracy: {grid_search.best_score_}\")"
   ]
  },
  {
   "cell_type": "code",
   "execution_count": null,
   "metadata": {},
   "outputs": [],
   "source": [
    "rf_clf1 = RandomForestClassifier(n_estimators = 100, \n",
    "                                max_depth = 12,\n",
    "                                min_samples_leaf = 8,\n",
    "                                min_samples_split = 8,\n",
    "                                random_state = 0,\n",
    "                                n_jobs = -1)\n",
    "rf_clf1.fit(x_train, y_train)\n",
    "pred = rf_clf1.predict(X_test)\n",
    "print('예측 정확도: {:.4f}'.format(accuracy_score(y_test,pred)))"
   ]
  },
  {
   "cell_type": "code",
   "execution_count": 43,
   "metadata": {},
   "outputs": [
    {
     "data": {
      "text/plain": [
       "{'mean_fit_time': array([ 45.42095404,  47.89461579, 104.45527601,  97.54565234,\n",
       "        149.18702364, 140.41665769, 247.88077388, 140.99477043,\n",
       "         19.06272731,  18.97233076,  43.81525879,  43.86375208,\n",
       "         60.45980515,  60.96489749, 106.32526121, 101.73821311,\n",
       "         18.62472057,  18.23737502,  41.62129273,  41.66838169,\n",
       "         54.65958519,  57.03063121,  92.40877023,  95.03137202]),\n",
       " 'std_fit_time': array([ 4.18659111,  4.7309525 ,  1.78704312,  0.94590561,  3.2688449 ,\n",
       "         3.31714687, 47.99313522,  6.83385589,  0.17794671,  0.29221182,\n",
       "         1.35748998,  2.25478417,  2.81170764,  5.39197645,  5.52072732,\n",
       "         2.64836496,  0.95918566,  0.34961127,  1.1002516 ,  0.55731421,\n",
       "         0.5650627 ,  1.46955747,  1.76527115,  1.66301756]),\n",
       " 'mean_score_time': array([0.28272729, 0.35230808, 0.31787553, 0.30284367, 0.33635268,\n",
       "        0.29905705, 0.34909291, 0.22709961, 0.19568734, 0.19638619,\n",
       "        0.18784876, 0.23205476, 0.2659811 , 0.24409332, 0.22987838,\n",
       "        0.23429093, 0.22332864, 0.23214536, 0.23204451, 0.24850836,\n",
       "        0.24085035, 0.24004498, 0.23450351, 0.25081706]),\n",
       " 'std_score_time': array([0.01603152, 0.0731999 , 0.03888674, 0.01296664, 0.03851179,\n",
       "        0.02008242, 0.06149092, 0.01807979, 0.00337795, 0.00582644,\n",
       "        0.02181464, 0.0630779 , 0.08188537, 0.04581457, 0.02631778,\n",
       "        0.01613728, 0.0171747 , 0.01583731, 0.00804086, 0.0159542 ,\n",
       "        0.0111165 , 0.02234829, 0.01828217, 0.01043323]),\n",
       " 'param_batch_size': masked_array(data=[1000, 1000, 1000, 1000, 1000, 1000, 1000, 1000, 5000,\n",
       "                    5000, 5000, 5000, 5000, 5000, 5000, 5000, 10000, 10000,\n",
       "                    10000, 10000, 10000, 10000, 10000, 10000],\n",
       "              mask=[False, False, False, False, False, False, False, False,\n",
       "                    False, False, False, False, False, False, False, False,\n",
       "                    False, False, False, False, False, False, False, False],\n",
       "        fill_value='?',\n",
       "             dtype=object),\n",
       " 'param_epochs': masked_array(data=[20, 20, 45, 45, 60, 60, 100, 100, 20, 20, 45, 45, 60,\n",
       "                    60, 100, 100, 20, 20, 45, 45, 60, 60, 100, 100],\n",
       "              mask=[False, False, False, False, False, False, False, False,\n",
       "                    False, False, False, False, False, False, False, False,\n",
       "                    False, False, False, False, False, False, False, False],\n",
       "        fill_value='?',\n",
       "             dtype=object),\n",
       " 'param_optimizer': masked_array(data=['adam', 'SGD', 'adam', 'SGD', 'adam', 'SGD', 'adam',\n",
       "                    'SGD', 'adam', 'SGD', 'adam', 'SGD', 'adam', 'SGD',\n",
       "                    'adam', 'SGD', 'adam', 'SGD', 'adam', 'SGD', 'adam',\n",
       "                    'SGD', 'adam', 'SGD'],\n",
       "              mask=[False, False, False, False, False, False, False, False,\n",
       "                    False, False, False, False, False, False, False, False,\n",
       "                    False, False, False, False, False, False, False, False],\n",
       "        fill_value='?',\n",
       "             dtype=object),\n",
       " 'params': [{'batch_size': 1000, 'epochs': 20, 'optimizer': 'adam'},\n",
       "  {'batch_size': 1000, 'epochs': 20, 'optimizer': 'SGD'},\n",
       "  {'batch_size': 1000, 'epochs': 45, 'optimizer': 'adam'},\n",
       "  {'batch_size': 1000, 'epochs': 45, 'optimizer': 'SGD'},\n",
       "  {'batch_size': 1000, 'epochs': 60, 'optimizer': 'adam'},\n",
       "  {'batch_size': 1000, 'epochs': 60, 'optimizer': 'SGD'},\n",
       "  {'batch_size': 1000, 'epochs': 100, 'optimizer': 'adam'},\n",
       "  {'batch_size': 1000, 'epochs': 100, 'optimizer': 'SGD'},\n",
       "  {'batch_size': 5000, 'epochs': 20, 'optimizer': 'adam'},\n",
       "  {'batch_size': 5000, 'epochs': 20, 'optimizer': 'SGD'},\n",
       "  {'batch_size': 5000, 'epochs': 45, 'optimizer': 'adam'},\n",
       "  {'batch_size': 5000, 'epochs': 45, 'optimizer': 'SGD'},\n",
       "  {'batch_size': 5000, 'epochs': 60, 'optimizer': 'adam'},\n",
       "  {'batch_size': 5000, 'epochs': 60, 'optimizer': 'SGD'},\n",
       "  {'batch_size': 5000, 'epochs': 100, 'optimizer': 'adam'},\n",
       "  {'batch_size': 5000, 'epochs': 100, 'optimizer': 'SGD'},\n",
       "  {'batch_size': 10000, 'epochs': 20, 'optimizer': 'adam'},\n",
       "  {'batch_size': 10000, 'epochs': 20, 'optimizer': 'SGD'},\n",
       "  {'batch_size': 10000, 'epochs': 45, 'optimizer': 'adam'},\n",
       "  {'batch_size': 10000, 'epochs': 45, 'optimizer': 'SGD'},\n",
       "  {'batch_size': 10000, 'epochs': 60, 'optimizer': 'adam'},\n",
       "  {'batch_size': 10000, 'epochs': 60, 'optimizer': 'SGD'},\n",
       "  {'batch_size': 10000, 'epochs': 100, 'optimizer': 'adam'},\n",
       "  {'batch_size': 10000, 'epochs': 100, 'optimizer': 'SGD'}],\n",
       " 'split0_test_score': array([0.79893291, 0.79678047, 0.79842341, 0.79695219, 0.79908174,\n",
       "        0.79699796, 0.7990703 , 0.79714686, 0.79842913, 0.79545236,\n",
       "        0.79803985, 0.79548669, 0.79826313, 0.79672319, 0.79824597,\n",
       "        0.79606485, 0.79827458, 0.7954638 , 0.79778224, 0.79553819,\n",
       "        0.79817152, 0.79572141, 0.79920197, 0.79579008]),\n",
       " 'split1_test_score': array([0.79888713, 0.79739296, 0.80051291, 0.79791391, 0.79903024,\n",
       "        0.79772502, 0.80035836, 0.79802269, 0.79964852, 0.7960763 ,\n",
       "        0.7992478 , 0.7961393 , 0.79984885, 0.79720408, 0.80084497,\n",
       "        0.79685485, 0.79995763, 0.79609925, 0.79895008, 0.79597902,\n",
       "        0.79860663, 0.79611641, 0.80070186, 0.79638547]),\n",
       " 'split2_test_score': array([0.79965425, 0.79624808, 0.79943097, 0.79650569, 0.79931647,\n",
       "        0.79685485, 0.79947102, 0.79658008, 0.79921341, 0.79536074,\n",
       "        0.79980308, 0.79537791, 0.79936802, 0.79645413, 0.7987898 ,\n",
       "        0.79661447, 0.7977708 , 0.79531497, 0.79925352, 0.7953493 ,\n",
       "        0.7982803 , 0.79527485, 0.79932219, 0.79618508]),\n",
       " 'split3_test_score': array([0.80062056, 0.79894894, 0.80208033, 0.798199  , 0.80096406,\n",
       "        0.79911494, 0.80107284, 0.79964733, 0.80020839, 0.7979815 ,\n",
       "        0.80110717, 0.79795855, 0.800861  , 0.79835355, 0.801651  ,\n",
       "        0.79902339, 0.80122739, 0.79763228, 0.80096406, 0.79772389,\n",
       "        0.80103844, 0.798199  , 0.80098122, 0.79811889]),\n",
       " 'split4_test_score': array([0.7998935 , 0.79720294, 0.79929817, 0.79816467, 0.79976183,\n",
       "        0.79797578, 0.79918367, 0.79776394, 0.79932106, 0.79640144,\n",
       "        0.80036294, 0.79656178, 0.80025417, 0.7966705 , 0.799779  ,\n",
       "        0.79776394, 0.799676  , 0.79626977, 0.79960728, 0.79625833,\n",
       "        0.79957867, 0.79624116, 0.80067205, 0.79623544]),\n",
       " 'mean_test_score': array([0.79959767, 0.79731468, 0.79994916, 0.79754709, 0.79963087,\n",
       "        0.79773371, 0.79983124, 0.79783218, 0.7993641 , 0.79625447,\n",
       "        0.79971217, 0.79630485, 0.79971904, 0.79708109, 0.79986215,\n",
       "        0.7972643 , 0.79938128, 0.79615601, 0.79931144, 0.79616975,\n",
       "        0.79913511, 0.79631057, 0.80017586, 0.79654299]),\n",
       " 'std_test_score': array([0.00064557, 0.00090691, 0.00125538, 0.00068984, 0.00071494,\n",
       "        0.00080996, 0.0007678 , 0.00103664, 0.0005818 , 0.00094637,\n",
       "        0.00103827, 0.00093346, 0.00087752, 0.00068177, 0.00125975,\n",
       "        0.00103659, 0.00123658, 0.00082244, 0.00102869, 0.00084043,\n",
       "        0.00107312, 0.00100285, 0.00075481, 0.00081214]),\n",
       " 'rank_test_score': array([ 8, 16,  2, 15,  7, 14,  4, 13, 10, 22,  6, 21,  5, 18,  3, 17,  9,\n",
       "        24, 11, 23, 12, 20,  1, 19], dtype=int32)}"
      ]
     },
     "execution_count": 43,
     "metadata": {},
     "output_type": "execute_result"
    }
   ],
   "source": [
    "import matplotlib.pyplot as plt\n",
    "import seaborn as sns\n",
    "%matplotlib inline\n",
    "\n",
    "ftr_importances_values = rf_clf1.feature_importances_\n",
    "ftr_importances = pd.Series(ftr_importances_values, index = x_train.columns)\n",
    "ftr_top30 = ftr_importances.sort_values(ascending=False)[:30]\n",
    "\n",
    "plt.figure(figsize=(8,6))\n",
    "plt.title('top 30 Feature Importances')\n",
    "sns.barplot(x=ftr_top30, y=ftr_top30.index)\n",
    "plt.show()"
   ]
  },
  {
   "cell_type": "markdown",
   "metadata": {},
   "source": [
    "아래는 위의 모델을 생성한 결과를 바탕으로 hyperparameter를 설정한 모델입니다."
   ]
  }
 ],
 "metadata": {
  "kernelspec": {
   "display_name": "base",
   "language": "python",
   "name": "python3"
  },
  "language_info": {
   "codemirror_mode": {
    "name": "ipython",
    "version": 3
   },
   "file_extension": ".py",
   "mimetype": "text/x-python",
   "name": "python",
   "nbconvert_exporter": "python",
   "pygments_lexer": "ipython3",
   "version": "3.10.13"
  }
 },
 "nbformat": 4,
 "nbformat_minor": 2
}
