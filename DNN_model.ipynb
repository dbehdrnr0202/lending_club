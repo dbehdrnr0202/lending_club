{
 "cells": [
  {
   "cell_type": "code",
   "execution_count": 1,
   "metadata": {},
   "outputs": [],
   "source": [
    "import pandas as pd                                     # type: ignore\n",
    "import numpy as np                                      # type: ignore\n",
    "import warnings                                         # type: ignore\n",
    "from sklearn.model_selection import train_test_split    # type: ignore\n",
    "from sklearn.decomposition import PCA                   # type: ignore\n",
    "from sklearn.preprocessing import StandardScaler, MinMaxScaler# type: ignore\n",
    "from sklearn.model_selection import GridSearchCV, StratifiedKFold # type: ignore\n",
    "from sklearn.metrics import confusion_matrix,f1_score, \\\n",
    "    accuracy_score, precision_score, recall_score, roc_auc_score, roc_curve, precision_recall_curve, make_scorer# type: ignore\n",
    "import tensorflow as tf                                 # type: ignore\n",
    "from tensorflow import keras                            # type: ignore\n",
    "from keras.layers import Dense, Dropout                 # type: ignore\n",
    "from keras.optimizers import Adam, SGD                  # type: ignore\n",
    "from keras.callbacks import EarlyStopping               # type: ignore\n",
    "import matplotlib.pyplot as plt                         # type: ignore\n",
    "from imblearn.over_sampling import RandomOverSampler, SMOTE# type: ignore\n",
    "from imblearn.under_sampling import TomekLinks          # type: ignore\n",
    "from scipy import stats  \n",
    "\n",
    "warnings.filterwarnings(action='ignore')\n",
    "\n",
    "tf.config.set_visible_devices([], 'GPU')"
   ]
  },
  {
   "cell_type": "code",
   "execution_count": 2,
   "metadata": {},
   "outputs": [
    {
     "name": "stdout",
     "output_type": "stream",
     "text": [
      "PhysicalDevice(name='/physical_device:GPU:0', device_type='GPU')\n"
     ]
    }
   ],
   "source": [
    "# GPU 설정\n",
    "physical_devices = tf.config.list_physical_devices('GPU')\n",
    "if physical_devices:\n",
    "    tf.config.experimental.set_memory_growth(physical_devices[0], True)\n",
    "    print(physical_devices[0])"
   ]
  },
  {
   "cell_type": "code",
   "execution_count": 3,
   "metadata": {},
   "outputs": [],
   "source": [
    "RISK_FREE = 1.03\n",
    "origin_train_df = pd.read_csv(\"scaled_train.csv\")\n",
    "origin_test_df = pd.read_csv(\"scaled_test.csv\")\n",
    "fold_train_df = None\n",
    "\n",
    "def get_expected_train_roe(val_index, y_true, y_pred):\n",
    "    cur_fold = origin_train_df.iloc[val_index,:]\n",
    "    earning = np.sum(cur_fold.iloc[np.where((y_pred==0)&(y_true==0))]['raw_total_pymnt'])\n",
    "    recovered = np.sum(cur_fold.iloc[np.where((y_pred==0)&(y_true==1))]['raw_total_pymnt'])\n",
    "    risk_free = np.sum(cur_fold.iloc[np.where(y_pred==1)]['raw_loan_amnt'])*RISK_FREE\n",
    "    loan_amnt = np.sum(cur_fold['raw_loan_amnt'])\n",
    "    return (earning+recovered+risk_free-loan_amnt)/loan_amnt"
   ]
  },
  {
   "cell_type": "markdown",
   "metadata": {},
   "source": [
    "### DNN model 클래스"
   ]
  },
  {
   "cell_type": "code",
   "execution_count": 4,
   "metadata": {},
   "outputs": [],
   "source": [
    "RANDOM_STATE = 300"
   ]
  },
  {
   "cell_type": "code",
   "execution_count": 5,
   "metadata": {},
   "outputs": [],
   "source": [
    "class DNNModel:\n",
    "    def __init__(self) -> None:\n",
    "        self.model = None\n",
    "        self.df = None\n",
    "        self.x_train = None\n",
    "        self.y_train = None\n",
    "        self.input_dim = 0\n",
    "        self.model_name = \"\"\n",
    "\n",
    "    def load_file(self, file_path:str)->None:\n",
    "        self.df = pd.read_csv(file_path)\n",
    "        self.x_train = self.df.drop(columns=['loan_status', 'raw_total_pymnt', 'raw_loan_amnt'])\n",
    "        self.y_train = self.df['loan_status']\n",
    "        self.x_train = self.x_train.astype(np.float32)\n",
    "        self.y_train = self.y_train.astype(np.float32)\n",
    "        self.input_dim = len(self.x_train.columns)\n",
    "        print(f\"loaded done: {self.x_train.shape}, {self.y_train.shape}\")\n",
    "\n",
    "    def __build_model(self, num_layers:int, num_nodes:int, loss:str, num_nodes_per_each_layers:list[int]=None)->keras.Sequential:\n",
    "        # Define and compile the model\n",
    "        model = keras.Sequential()\n",
    "        model.add(Dense(num_nodes, input_dim=self.input_dim, activation='relu'))\n",
    "        for layer_index in range(num_layers):\n",
    "            if num_nodes_per_each_layers:\n",
    "                model.add(Dense(num_nodes_per_each_layers[layer_index], activation='relu'))\n",
    "            else:\n",
    "                model.add(Dense(num_nodes, activation='relu'))\n",
    "            model.add(Dropout(0.2))\n",
    "        model.add(Dense(1, activation='sigmoid'))\n",
    "        model.compile(optimizer='Adam', loss=loss, metrics=[\"accuracy\"])\n",
    "        return model\n",
    "\n",
    "    def build_model_with_best_params(\n",
    "            self, \n",
    "            best_params:dict, \n",
    "            sampler:SMOTE|RandomOverSampler|TomekLinks=None,\n",
    "            params:dict={'min_delta':0.001, \"n_splits\":5}, \n",
    "            threshold:float=0.5)->dict:\n",
    "        result_dict = {\n",
    "                       'average validation accuracy':0,\n",
    "                       'average validation recall':0,\n",
    "                       'average validation precision':0,\n",
    "                       'average validation f1':0,\n",
    "                       'average validation AUC':0,\n",
    "                       'average validation ROE':0\n",
    "                       }\n",
    "        model = self.__build_model(best_params['num_layers'], best_params['num_nodes'], best_params['loss'])\n",
    "        fold = StratifiedKFold(n_splits=params['n_splits'], shuffle=True, random_state=RANDOM_STATE)\n",
    "        early_stopping = EarlyStopping(monitor='loss',min_delta=params['min_delta'])\n",
    "        for _, (train_index, val_index) in enumerate(fold.split(self.x_train, self.y_train)):\n",
    "            X_train_fold, X_val_fold = self.x_train.iloc[train_index], self.x_train.iloc[val_index]\n",
    "            Y_train_fold, Y_val_fold = self.y_train.iloc[train_index], self.y_train.iloc[val_index]\n",
    "            if sampler:\n",
    "                X_train_fold, Y_train_fold = sampler().fit_resample(X_train_fold, Y_train_fold)\n",
    "            # 모델 학습\n",
    "            model.fit(X_train_fold, \n",
    "                    Y_train_fold, \n",
    "                    batch_size=best_params['batch_size'], \n",
    "                    epochs=best_params['epochs'], \n",
    "                    verbose=1,\n",
    "                    callbacks=[early_stopping])\n",
    "            # 모델 validation\n",
    "            _, _= model.evaluate(X_val_fold, Y_val_fold)\n",
    "            pred = model.predict(X_val_fold).flatten()\n",
    "            pred = np.where(pred >= threshold, 1 , 0)\n",
    "            result_dict['average validation accuracy'] += accuracy_score(Y_val_fold, pred)/fold.n_splits\n",
    "            result_dict['average validation recall'] += recall_score(Y_val_fold, pred)/fold.n_splits\n",
    "            result_dict['average validation precision'] += precision_score(Y_val_fold, pred)/fold.n_splits\n",
    "            result_dict['average validation f1'] += f1_score(Y_val_fold, pred)/fold.n_splits\n",
    "            result_dict['average validation AUC'] += roc_auc_score(Y_val_fold, pred)/fold.n_splits\n",
    "            result_dict['average validation ROE'] += get_expected_train_roe(val_index, Y_val_fold, pred)/fold.n_splits\n",
    "        print(\"###################################\")\n",
    "        print(\"avg Validation accuracy:\", result_dict['average validation accuracy'])\n",
    "        print(\"avg Validation recall:\", result_dict['average validation recall'])\n",
    "        print(\"avg Validation precision:\", result_dict['average validation precision'])\n",
    "        print(\"avg Validation F1-score:\", result_dict['average validation f1'])\n",
    "        print(\"avg Validation AUC:\", result_dict['average validation AUC'])\n",
    "        print(\"avg Validation ROE:\", result_dict['average validation ROE'])\n",
    "        self.model = model\n",
    "        return result_dict\n",
    "\n",
    "    def save_model(self, file_path:str=\"dnn_models/0425/dnn_\")->None:\n",
    "        self.model.save(file_path+self.model_name+'.h5')\n",
    "\n",
    "    def get_input_dim(self)->int:\n",
    "        return self.input_dim\n",
    "\n",
    "    def get_model(self)->keras.Sequential:\n",
    "        return self.model"
   ]
  },
  {
   "cell_type": "markdown",
   "metadata": {},
   "source": [
    "### Step 1. 학습 데이터(train set)을 통한 최적의 모델 탐색"
   ]
  },
  {
   "cell_type": "code",
   "execution_count": 6,
   "metadata": {},
   "outputs": [
    {
     "name": "stdout",
     "output_type": "stream",
     "text": [
      "loaded done: (1131682, 85), (1131682,)\n",
      "Epoch 1/10\n",
      "145/145 [==============================] - 8s 46ms/step - loss: 0.6145 - accuracy: 0.6608\n",
      "Epoch 2/10\n",
      "145/145 [==============================] - 7s 47ms/step - loss: 0.5916 - accuracy: 0.6841\n",
      "7074/7074 [==============================] - 8s 1ms/step - loss: 0.6116 - accuracy: 0.6628\n",
      "7074/7074 [==============================] - 6s 883us/step\n",
      "Epoch 1/10\n",
      "145/145 [==============================] - 6s 44ms/step - loss: 0.5671 - accuracy: 0.7033\n",
      "Epoch 2/10\n",
      "145/145 [==============================] - 6s 43ms/step - loss: 0.5330 - accuracy: 0.7236\n",
      "7074/7074 [==============================] - 7s 1ms/step - loss: 0.5603 - accuracy: 0.7139\n",
      "7074/7074 [==============================] - 6s 857us/step\n",
      "Epoch 1/10\n",
      "145/145 [==============================] - 7s 45ms/step - loss: 0.5117 - accuracy: 0.7355\n",
      "Epoch 2/10\n",
      "145/145 [==============================] - 6s 44ms/step - loss: 0.4958 - accuracy: 0.7447\n",
      "7073/7073 [==============================] - 8s 1ms/step - loss: 0.5398 - accuracy: 0.7286\n",
      "7073/7073 [==============================] - 7s 954us/step\n",
      "Epoch 1/10\n",
      "145/145 [==============================] - 7s 51ms/step - loss: 0.4845 - accuracy: 0.7510\n",
      "Epoch 2/10\n",
      "145/145 [==============================] - 7s 51ms/step - loss: 0.4756 - accuracy: 0.7556\n",
      "7073/7073 [==============================] - 9s 1ms/step - loss: 0.5320 - accuracy: 0.7342\n",
      "7073/7073 [==============================] - 7s 956us/step\n",
      "Epoch 1/10\n",
      "145/145 [==============================] - 7s 49ms/step - loss: 0.4697 - accuracy: 0.7588\n",
      "Epoch 2/10\n",
      "145/145 [==============================] - 7s 50ms/step - loss: 0.4651 - accuracy: 0.7619\n",
      "7073/7073 [==============================] - 8s 1ms/step - loss: 0.5266 - accuracy: 0.7358\n",
      "7073/7073 [==============================] - 7s 940us/step\n",
      "###################################\n",
      "avg Validation accuracy: 0.7150710653843351\n",
      "avg Validation recall: 0.46717099940966833\n",
      "avg Validation precision: 0.3507401926484348\n",
      "avg Validation F1-score: 0.3972042063112881\n",
      "avg Validation AUC: 0.6225115429157689\n",
      "avg Validation ROE: 0.04872716544526628\n",
      "\n"
     ]
    }
   ],
   "source": [
    "dnn_model = DNNModel()\n",
    "dnn_model.load_file(\"scaled_train.csv\")\n",
    "dnn_model.build_model_with_best_params(best_params={\n",
    "    'batch_size': 10000, \n",
    "    'epochs': 10, \n",
    "    'loss': 'binary_crossentropy', \n",
    "    'num_layers': 3, \n",
    "    'num_nodes': 120\n",
    "    }, sampler=SMOTE)\n",
    "print()"
   ]
  },
  {
   "cell_type": "markdown",
   "metadata": {},
   "source": [
    "### Step 2. 검증 데이터(validation set)를 통한 threshold 최적화"
   ]
  },
  {
   "cell_type": "code",
   "execution_count": 7,
   "metadata": {},
   "outputs": [],
   "source": [
    "def get_expected_sampled_roe(sampled_valid_df, y_true, y_pred):\n",
    "    earning = np.sum(sampled_valid_df.iloc[np.where((y_pred==0)&(y_true==0))]['raw_total_pymnt'])\n",
    "    recovered = np.sum(sampled_valid_df.iloc[np.where((y_pred==0)&(y_true==1))]['raw_total_pymnt'])\n",
    "    risk_free = np.sum(sampled_valid_df.iloc[np.where(y_pred==1)]['raw_loan_amnt'])*RISK_FREE\n",
    "    loan_amnt = np.sum(sampled_valid_df['raw_loan_amnt'])\n",
    "    return (earning+recovered+risk_free-loan_amnt)/loan_amnt\n",
    "model = dnn_model.get_model()"
   ]
  },
  {
   "cell_type": "markdown",
   "metadata": {},
   "source": [
    "- (0, 1) 구간을 0.1 단위로 threshold를 나누어 validation set의 ROE를 계산한 결과 0.2 근방에서 최대가 됨을 확인함\n",
    "- (0.1, 0.4) 구간을 0.01 단위로 threshold를 나누어 validation set의 ROE를 다시 계산"
   ]
  },
  {
   "cell_type": "code",
   "execution_count": 8,
   "metadata": {},
   "outputs": [
    {
     "name": "stdout",
     "output_type": "stream",
     "text": [
      "5011/5011 [==============================] - 4s 862us/step\n",
      "threshold: 0.10\troe: 0.03098\n",
      "threshold: 0.11\troe: 0.03116\n",
      "threshold: 0.12\troe: 0.03128\n",
      "threshold: 0.13\troe: 0.03136\n",
      "threshold: 0.14\troe: 0.03145\n",
      "threshold: 0.15\troe: 0.03162\n",
      "threshold: 0.16\troe: 0.03179\n",
      "threshold: 0.17\troe: 0.03182\n",
      "threshold: 0.18\troe: 0.03192\n",
      "threshold: 0.19\troe: 0.03184\n",
      "threshold: 0.20\troe: 0.03195\n",
      "threshold: 0.21\troe: 0.03192\n",
      "threshold: 0.22\troe: 0.03188\n",
      "threshold: 0.23\troe: 0.0318\n",
      "threshold: 0.24\troe: 0.03184\n",
      "threshold: 0.25\troe: 0.03173\n",
      "threshold: 0.26\troe: 0.03153\n",
      "threshold: 0.27\troe: 0.03142\n",
      "threshold: 0.28\troe: 0.03115\n",
      "threshold: 0.29\troe: 0.03108\n",
      "threshold: 0.30\troe: 0.03074\n",
      "threshold: 0.31\troe: 0.03044\n",
      "threshold: 0.32\troe: 0.03\n",
      "threshold: 0.33\troe: 0.02957\n",
      "threshold: 0.34\troe: 0.02936\n",
      "threshold: 0.35\troe: 0.02877\n",
      "threshold: 0.36\troe: 0.02807\n",
      "threshold: 0.37\troe: 0.02759\n",
      "threshold: 0.38\troe: 0.02688\n",
      "threshold: 0.39\troe: 0.02624\n",
      "threshold: 0.40\troe: 0.02563\n",
      "**************************************************\n",
      "MAX ROE's threshold: 0.2\tMAX ROE: 0.03195\n"
     ]
    }
   ],
   "source": [
    "thresholds = []\n",
    "roes = []\n",
    "sampled_valid_df = origin_test_df[:160339].sample(n=160339, replace=False).copy(deep=True)\n",
    "sampled_valid_x = sampled_valid_df.drop(columns=['loan_status', 'raw_loan_amnt', 'raw_total_pymnt']).astype(np.float32)\n",
    "sampled_valid_y = sampled_valid_df['loan_status'].astype(np.float32)\n",
    "validation_prob = model.predict(sampled_valid_x)\n",
    "validation_prob = validation_prob.flatten()\n",
    "for threshold in np.arange(0.1, 0.4, 0.01):\n",
    "    threshold = round(threshold, 2)\n",
    "    validation_pred = np.where(validation_prob>threshold, 1, 0)\n",
    "    roe = round(get_expected_sampled_roe(sampled_valid_df=sampled_valid_df, y_true=sampled_valid_y, y_pred=validation_pred), 5)\n",
    "    thresholds.append(threshold)\n",
    "    roes.append(roe)\n",
    "    print(f\"threshold: {threshold:.2f}\\troe: {roe}\")\n",
    "print(\"*\"*50)\n",
    "max_index = np.argmax(roes)\n",
    "max_threshold = thresholds[max_index]\n",
    "max_roe = roes[max_index]\n",
    "print(f\"MAX ROE's threshold: {max_threshold}\\tMAX ROE: {max_roe}\")"
   ]
  },
  {
   "cell_type": "markdown",
   "metadata": {},
   "source": [
    "- ROE가 최대가 되는 threshold 지점이 0.2임을 확인하여 이를 decision boundary로 설정함"
   ]
  },
  {
   "cell_type": "code",
   "execution_count": 9,
   "metadata": {},
   "outputs": [
    {
     "data": {
      "image/png": "[encoded data removed]",
      "text/plain": [
       "<Figure size 640x480 with 1 Axes>"
      ]
     },
     "metadata": {},
     "output_type": "display_data"
    }
   ],
   "source": [
    "import seaborn as sns\n",
    "import matplotlib.pyplot as plt\n",
    "fig = plt.figure()\n",
    "sns.lineplot(x=thresholds, y=roes, color='b', markers='o')\n",
    "plt.axvline(x=max_threshold, linestyle='--', color='red', label=f'Max ROE at {max_threshold:.2f}')\n",
    "plt.scatter([max_threshold], [max_roe], color='red', zorder=5)\n",
    "plt.xlabel(\"threshold\")\n",
    "plt.ylabel(\"ROE\")\n",
    "fig.savefig(\"validation set을 통한 최적 threshold 탐색.png\")\n",
    "plt.show()"
   ]
  },
  {
   "cell_type": "code",
   "execution_count": 9,
   "metadata": {},
   "outputs": [],
   "source": [
    "DECISION_BOUNDARY=max_threshold"
   ]
  },
  {
   "cell_type": "markdown",
   "metadata": {},
   "source": [
    "### Step 3. 시험 데이터(test set) 부트스트래핑을 통한 OOS(Out Of Sample) 테스트"
   ]
  },
  {
   "cell_type": "code",
   "execution_count": 10,
   "metadata": {},
   "outputs": [],
   "source": [
    "def get_expected_bootstraped_roe(bootstraped_test_df, y_true, y_pred):\n",
    "    earning = np.sum(bootstraped_test_df.iloc[np.where((y_pred==0)&(y_true==0))]['raw_total_pymnt'])\n",
    "    recovered = np.sum(bootstraped_test_df.iloc[np.where((y_pred==0)&(y_true==1))]['raw_total_pymnt'])\n",
    "    risk_free = np.sum(bootstraped_test_df.iloc[np.where(y_pred==1)]['raw_loan_amnt'])*RISK_FREE\n",
    "    loan_amnt = np.sum(bootstraped_test_df['raw_loan_amnt'])\n",
    "    return (earning+recovered+risk_free-loan_amnt)/loan_amnt"
   ]
  },
  {
   "cell_type": "code",
   "execution_count": 6,
   "metadata": {},
   "outputs": [],
   "source": [
    "# 부트스트래핑 시행 횟수\n",
    "RANDOM_SIZE=100"
   ]
  },
  {
   "cell_type": "code",
   "execution_count": 13,
   "metadata": {},
   "outputs": [
    {
     "name": "stdout",
     "output_type": "stream",
     "text": [
      "5011/5011 [==============================] - 3s 676us/step\n",
      "threshold: 0.20\troe: 0.0315\n",
      "5011/5011 [==============================] - 3s 673us/step\n",
      "threshold: 0.20\troe: 0.0314\n",
      "5011/5011 [==============================] - 4s 779us/step\n",
      "threshold: 0.20\troe: 0.0313\n",
      "5011/5011 [==============================] - 4s 825us/step\n",
      "threshold: 0.20\troe: 0.0313\n",
      "5011/5011 [==============================] - 4s 821us/step\n",
      "threshold: 0.20\troe: 0.0314\n",
      "5011/5011 [==============================] - 4s 816us/step\n",
      "threshold: 0.20\troe: 0.0315\n",
      "5011/5011 [==============================] - 4s 832us/step\n",
      "threshold: 0.20\troe: 0.0310\n",
      "5011/5011 [==============================] - 5s 1ms/step\n",
      "threshold: 0.20\troe: 0.0316\n",
      "5011/5011 [==============================] - 5s 1ms/step\n",
      "threshold: 0.20\troe: 0.0316\n",
      "5011/5011 [==============================] - 5s 1ms/step\n",
      "threshold: 0.20\troe: 0.0315\n",
      "5011/5011 [==============================] - 5s 999us/step\n",
      "threshold: 0.20\troe: 0.0316\n",
      "5011/5011 [==============================] - 4s 877us/step\n",
      "threshold: 0.20\troe: 0.0311\n",
      "5011/5011 [==============================] - 4s 877us/step\n",
      "threshold: 0.20\troe: 0.0313\n",
      "5011/5011 [==============================] - 5s 990us/step\n",
      "threshold: 0.20\troe: 0.0314\n",
      "5011/5011 [==============================] - 5s 904us/step\n",
      "threshold: 0.20\troe: 0.0315\n",
      "5011/5011 [==============================] - 4s 830us/step\n",
      "threshold: 0.20\troe: 0.0316\n",
      "5011/5011 [==============================] - 5s 914us/step\n",
      "threshold: 0.20\troe: 0.0310\n",
      "5011/5011 [==============================] - 4s 866us/step\n",
      "threshold: 0.20\troe: 0.0311\n",
      "5011/5011 [==============================] - 5s 909us/step\n",
      "threshold: 0.20\troe: 0.0314\n",
      "5011/5011 [==============================] - 4s 875us/step\n",
      "threshold: 0.20\troe: 0.0315\n",
      "5011/5011 [==============================] - 5s 896us/step\n",
      "threshold: 0.20\troe: 0.0308\n",
      "5011/5011 [==============================] - 4s 857us/step\n",
      "threshold: 0.20\troe: 0.0317\n",
      "5011/5011 [==============================] - 4s 835us/step\n",
      "threshold: 0.20\troe: 0.0314\n",
      "5011/5011 [==============================] - 4s 887us/step\n",
      "threshold: 0.20\troe: 0.0316\n",
      "5011/5011 [==============================] - 4s 869us/step\n",
      "threshold: 0.20\troe: 0.0312\n",
      "5011/5011 [==============================] - 5s 923us/step\n",
      "threshold: 0.20\troe: 0.0311\n",
      "5011/5011 [==============================] - 4s 881us/step\n",
      "threshold: 0.20\troe: 0.0316\n",
      "5011/5011 [==============================] - 4s 893us/step\n",
      "threshold: 0.20\troe: 0.0318\n",
      "5011/5011 [==============================] - 4s 830us/step\n",
      "threshold: 0.20\troe: 0.0317\n",
      "5011/5011 [==============================] - 4s 876us/step\n",
      "threshold: 0.20\troe: 0.0314\n",
      "5011/5011 [==============================] - 5s 923us/step\n",
      "threshold: 0.20\troe: 0.0313\n",
      "5011/5011 [==============================] - 5s 903us/step\n",
      "threshold: 0.20\troe: 0.0313\n",
      "5011/5011 [==============================] - 4s 872us/step\n",
      "threshold: 0.20\troe: 0.0315\n",
      "5011/5011 [==============================] - 4s 874us/step\n",
      "threshold: 0.20\troe: 0.0316\n",
      "5011/5011 [==============================] - 4s 873us/step\n",
      "threshold: 0.20\troe: 0.0315\n",
      "5011/5011 [==============================] - 4s 878us/step\n",
      "threshold: 0.20\troe: 0.0314\n",
      "5011/5011 [==============================] - 4s 857us/step\n",
      "threshold: 0.20\troe: 0.0312\n",
      "5011/5011 [==============================] - 4s 867us/step\n",
      "threshold: 0.20\troe: 0.0314\n",
      "5011/5011 [==============================] - 4s 865us/step\n",
      "threshold: 0.20\troe: 0.0311\n",
      "5011/5011 [==============================] - 4s 869us/step\n",
      "threshold: 0.20\troe: 0.0313\n",
      "5011/5011 [==============================] - 4s 880us/step\n",
      "threshold: 0.20\troe: 0.0313\n",
      "5011/5011 [==============================] - 4s 870us/step\n",
      "threshold: 0.20\troe: 0.0308\n",
      "5011/5011 [==============================] - 4s 868us/step\n",
      "threshold: 0.20\troe: 0.0315\n",
      "5011/5011 [==============================] - 4s 858us/step\n",
      "threshold: 0.20\troe: 0.0313\n",
      "5011/5011 [==============================] - 4s 876us/step\n",
      "threshold: 0.20\troe: 0.0310\n",
      "5011/5011 [==============================] - 4s 860us/step\n",
      "threshold: 0.20\troe: 0.0314\n",
      "5011/5011 [==============================] - 4s 868us/step\n",
      "threshold: 0.20\troe: 0.0314\n",
      "5011/5011 [==============================] - 4s 859us/step\n",
      "threshold: 0.20\troe: 0.0311\n",
      "5011/5011 [==============================] - 4s 875us/step\n",
      "threshold: 0.20\troe: 0.0318\n",
      "5011/5011 [==============================] - 4s 862us/step\n",
      "threshold: 0.20\troe: 0.0313\n",
      "5011/5011 [==============================] - 5s 911us/step\n",
      "threshold: 0.20\troe: 0.0314\n",
      "5011/5011 [==============================] - 4s 876us/step\n",
      "threshold: 0.20\troe: 0.0318\n",
      "5011/5011 [==============================] - 5s 903us/step\n",
      "threshold: 0.20\troe: 0.0315\n",
      "5011/5011 [==============================] - 4s 869us/step\n",
      "threshold: 0.20\troe: 0.0315\n",
      "5011/5011 [==============================] - 4s 863us/step\n",
      "threshold: 0.20\troe: 0.0314\n",
      "5011/5011 [==============================] - 4s 850us/step\n",
      "threshold: 0.20\troe: 0.0315\n",
      "5011/5011 [==============================] - 4s 859us/step\n",
      "threshold: 0.20\troe: 0.0317\n",
      "5011/5011 [==============================] - 4s 834us/step\n",
      "threshold: 0.20\troe: 0.0315\n",
      "5011/5011 [==============================] - 4s 848us/step\n",
      "threshold: 0.20\troe: 0.0311\n",
      "5011/5011 [==============================] - 4s 844us/step\n",
      "threshold: 0.20\troe: 0.0313\n",
      "5011/5011 [==============================] - 4s 853us/step\n",
      "threshold: 0.20\troe: 0.0313\n",
      "5011/5011 [==============================] - 4s 851us/step\n",
      "threshold: 0.20\troe: 0.0313\n",
      "5011/5011 [==============================] - 4s 851us/step\n",
      "threshold: 0.20\troe: 0.0316\n",
      "5011/5011 [==============================] - 4s 850us/step\n",
      "threshold: 0.20\troe: 0.0315\n",
      "5011/5011 [==============================] - 4s 854us/step\n",
      "threshold: 0.20\troe: 0.0314\n",
      "5011/5011 [==============================] - 4s 842us/step\n",
      "threshold: 0.20\troe: 0.0314\n",
      "5011/5011 [==============================] - 4s 864us/step\n",
      "threshold: 0.20\troe: 0.0315\n",
      "5011/5011 [==============================] - 4s 851us/step\n",
      "threshold: 0.20\troe: 0.0316\n",
      "5011/5011 [==============================] - 4s 854us/step\n",
      "threshold: 0.20\troe: 0.0317\n",
      "5011/5011 [==============================] - 4s 839us/step\n",
      "threshold: 0.20\troe: 0.0310\n",
      "5011/5011 [==============================] - 4s 861us/step\n",
      "threshold: 0.20\troe: 0.0314\n",
      "5011/5011 [==============================] - 4s 860us/step\n",
      "threshold: 0.20\troe: 0.0313\n",
      "5011/5011 [==============================] - 4s 854us/step\n",
      "threshold: 0.20\troe: 0.0311\n",
      "5011/5011 [==============================] - 4s 845us/step\n",
      "threshold: 0.20\troe: 0.0312\n",
      "5011/5011 [==============================] - 4s 853us/step\n",
      "threshold: 0.20\troe: 0.0313\n",
      "5011/5011 [==============================] - 4s 857us/step\n",
      "threshold: 0.20\troe: 0.0313\n",
      "5011/5011 [==============================] - 4s 854us/step\n",
      "threshold: 0.20\troe: 0.0315\n",
      "5011/5011 [==============================] - 4s 850us/step\n",
      "threshold: 0.20\troe: 0.0315\n",
      "5011/5011 [==============================] - 4s 855us/step\n",
      "threshold: 0.20\troe: 0.0314\n",
      "5011/5011 [==============================] - 4s 846us/step\n",
      "threshold: 0.20\troe: 0.0312\n",
      "5011/5011 [==============================] - 4s 873us/step\n",
      "threshold: 0.20\troe: 0.0318\n",
      "5011/5011 [==============================] - 4s 875us/step\n",
      "threshold: 0.20\troe: 0.0311\n",
      "5011/5011 [==============================] - 4s 874us/step\n",
      "threshold: 0.20\troe: 0.0317\n",
      "5011/5011 [==============================] - 4s 855us/step\n",
      "threshold: 0.20\troe: 0.0312\n",
      "5011/5011 [==============================] - 4s 852us/step\n",
      "threshold: 0.20\troe: 0.0314\n",
      "5011/5011 [==============================] - 4s 850us/step\n",
      "threshold: 0.20\troe: 0.0312\n",
      "5011/5011 [==============================] - 4s 855us/step\n",
      "threshold: 0.20\troe: 0.0312\n",
      "5011/5011 [==============================] - 4s 863us/step\n",
      "threshold: 0.20\troe: 0.0315\n",
      "5011/5011 [==============================] - 4s 876us/step\n",
      "threshold: 0.20\troe: 0.0321\n",
      "5011/5011 [==============================] - 4s 863us/step\n",
      "threshold: 0.20\troe: 0.0311\n",
      "5011/5011 [==============================] - 4s 859us/step\n",
      "threshold: 0.20\troe: 0.0311\n",
      "5011/5011 [==============================] - 4s 847us/step\n",
      "threshold: 0.20\troe: 0.0316\n",
      "5011/5011 [==============================] - 4s 854us/step\n",
      "threshold: 0.20\troe: 0.0314\n",
      "5011/5011 [==============================] - 4s 861us/step\n",
      "threshold: 0.20\troe: 0.0309\n",
      "5011/5011 [==============================] - 4s 861us/step\n",
      "threshold: 0.20\troe: 0.0313\n",
      "5011/5011 [==============================] - 4s 861us/step\n",
      "threshold: 0.20\troe: 0.0318\n",
      "5011/5011 [==============================] - 4s 873us/step\n",
      "threshold: 0.20\troe: 0.0315\n",
      "5011/5011 [==============================] - 4s 846us/step\n",
      "threshold: 0.20\troe: 0.0317\n",
      "5011/5011 [==============================] - 4s 861us/step\n",
      "threshold: 0.20\troe: 0.0316\n",
      "5011/5011 [==============================] - 4s 865us/step\n",
      "threshold: 0.20\troe: 0.0311\n"
     ]
    }
   ],
   "source": [
    "bootstraped_roes = []\n",
    "for rs in range(1, RANDOM_SIZE+1):\n",
    "    bootstraped_test_df = origin_test_df[160339:].sample(n=160339, replace=True, random_state=rs)\n",
    "    bootstraped_test_x = bootstraped_test_df.drop(columns=['loan_status', 'raw_loan_amnt', 'raw_total_pymnt']).astype(np.float32)\n",
    "    bootstraped_test_y = bootstraped_test_df['loan_status'].astype(np.float32)\n",
    "    bootstraped_prob = model.predict(bootstraped_test_x)\n",
    "    bootstraped_prob = bootstraped_prob.flatten()\n",
    "    bootstraped_pred = np.where(bootstraped_prob>DECISION_BOUNDARY, 1, 0)\n",
    "    roe = get_expected_bootstraped_roe(bootstraped_test_df=bootstraped_test_df, y_true=bootstraped_test_y, y_pred=bootstraped_pred)\n",
    "    bootstraped_roes.append(round(roe, 5))\n",
    "    print(f\"threshold: {max_threshold:.2f}\\troe: {roe:.4f}\")"
   ]
  },
  {
   "cell_type": "markdown",
   "metadata": {},
   "source": [
    "- 부트스트랩 결과 히스토그램 plot"
   ]
  },
  {
   "cell_type": "code",
   "execution_count": 14,
   "metadata": {},
   "outputs": [
    {
     "data": {
      "image/png": "[encoded data removed]",
      "text/plain": [
       "<Figure size 500x500 with 1 Axes>"
      ]
     },
     "metadata": {},
     "output_type": "display_data"
    }
   ],
   "source": [
    "sns.displot(x=bootstraped_roes, bins=10, kde=True)\n",
    "plt.savefig(\"Bootstraping한 ROE의 히스토그램.png\")\n",
    "plt.show()"
   ]
  },
  {
   "cell_type": "markdown",
   "metadata": {},
   "source": [
    "- 신뢰 구간 도출"
   ]
  },
  {
   "cell_type": "code",
   "execution_count": 1,
   "metadata": {},
   "outputs": [],
   "source": [
    "def confidence_interval(data, confidence=0.95):\n",
    "    data = np.array(data)\n",
    "    mean = np.mean(data)\n",
    "    n = len(data)\n",
    "    stderr = stats.sem(data)\n",
    "    interval = stderr*stats.t.ppf((1+confidence)/2, n-1)\n",
    "    return np.round([mean-interval, mean+interval], 5)"
   ]
  },
  {
   "cell_type": "code",
   "execution_count": 5,
   "metadata": {},
   "outputs": [
    {
     "name": "stdout",
     "output_type": "stream",
     "text": [
      "confidence interval: (0.03134, 0.03144)\n"
     ]
    }
   ],
   "source": [
    "lower_bound, upper_bound = confidence_interval(roes)\n",
    "print(f'confidence interval: ({lower_bound}, {upper_bound})')"
   ]
  },
  {
   "cell_type": "code",
   "execution_count": null,
   "metadata": {},
   "outputs": [],
   "source": []
  }
 ],
 "metadata": {
  "kernelspec": {
   "display_name": "base",
   "language": "python",
   "name": "python3"
  },
  "language_info": {
   "codemirror_mode": {
    "name": "ipython",
    "version": 3
   },
   "file_extension": ".py",
   "mimetype": "text/x-python",
   "name": "python",
   "nbconvert_exporter": "python",
   "pygments_lexer": "ipython3",
   "version": "3.10.13"
  }
 },
 "nbformat": 4,
 "nbformat_minor": 2
}
