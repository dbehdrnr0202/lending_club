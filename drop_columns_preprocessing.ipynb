{
 "cells": [
  {
   "cell_type": "code",
   "execution_count": 57,
   "metadata": {},
   "outputs": [],
   "source": [
    "import pandas as pd\n",
    "import numpy as np\n",
    "import matplotlib.pyplot as plt\n",
    "import seaborn as sns"
   ]
  },
  {
   "cell_type": "code",
   "execution_count": 58,
   "metadata": {},
   "outputs": [],
   "source": [
    "FOLDER_PATH = \"/Users/admin/codes/jupyter_codes/data/\"\n",
    "#FOLDER_PATH = \"data/\""
   ]
  },
  {
   "cell_type": "code",
   "execution_count": 59,
   "metadata": {},
   "outputs": [
    {
     "name": "stderr",
     "output_type": "stream",
     "text": [
      "/var/folders/4k/lxd3n8m934z_82zsdzv73d5r0000gn/T/ipykernel_31036/2516111998.py:2: DtypeWarning: Columns (0) have mixed types. Specify dtype option on import or set low_memory=False.\n",
      "  origin_data = pd.read_csv(file_path)\n"
     ]
    },
    {
     "data": {
      "text/html": [
       "<div>\n",
       "<style scoped>\n",
       "    .dataframe tbody tr th:only-of-type {\n",
       "        vertical-align: middle;\n",
       "    }\n",
       "\n",
       "    .dataframe tbody tr th {\n",
       "        vertical-align: top;\n",
       "    }\n",
       "\n",
       "    .dataframe thead th {\n",
       "        text-align: right;\n",
       "    }\n",
       "</style>\n",
       "<table border=\"1\" class=\"dataframe\">\n",
       "  <thead>\n",
       "    <tr style=\"text-align: right;\">\n",
       "      <th></th>\n",
       "      <th>id</th>\n",
       "      <th>loan_amnt</th>\n",
       "      <th>funded_amnt</th>\n",
       "      <th>funded_amnt_inv</th>\n",
       "      <th>term</th>\n",
       "      <th>int_rate</th>\n",
       "      <th>installment</th>\n",
       "      <th>grade</th>\n",
       "      <th>sub_grade</th>\n",
       "      <th>emp_title</th>\n",
       "      <th>...</th>\n",
       "      <th>hardship_start_date</th>\n",
       "      <th>hardship_end_date</th>\n",
       "      <th>payment_plan_start_date</th>\n",
       "      <th>hardship_length</th>\n",
       "      <th>hardship_dpd</th>\n",
       "      <th>hardship_loan_status</th>\n",
       "      <th>orig_projected_additional_accrued_interest</th>\n",
       "      <th>hardship_payoff_balance_amount</th>\n",
       "      <th>hardship_last_payment_amount</th>\n",
       "      <th>debt_settlement_flag</th>\n",
       "    </tr>\n",
       "  </thead>\n",
       "  <tbody>\n",
       "    <tr>\n",
       "      <th>0</th>\n",
       "      <td>124989905</td>\n",
       "      <td>6000.0</td>\n",
       "      <td>6000.0</td>\n",
       "      <td>6000.0</td>\n",
       "      <td>36 months</td>\n",
       "      <td>7.97%</td>\n",
       "      <td>187.94</td>\n",
       "      <td>A</td>\n",
       "      <td>A5</td>\n",
       "      <td>Teacher</td>\n",
       "      <td>...</td>\n",
       "      <td>NaN</td>\n",
       "      <td>NaN</td>\n",
       "      <td>NaN</td>\n",
       "      <td>NaN</td>\n",
       "      <td>NaN</td>\n",
       "      <td>NaN</td>\n",
       "      <td>NaN</td>\n",
       "      <td>NaN</td>\n",
       "      <td>NaN</td>\n",
       "      <td>N</td>\n",
       "    </tr>\n",
       "    <tr>\n",
       "      <th>1</th>\n",
       "      <td>139665484</td>\n",
       "      <td>35000.0</td>\n",
       "      <td>35000.0</td>\n",
       "      <td>35000.0</td>\n",
       "      <td>60 months</td>\n",
       "      <td>14.47%</td>\n",
       "      <td>822.95</td>\n",
       "      <td>C</td>\n",
       "      <td>C2</td>\n",
       "      <td>Product Specialist</td>\n",
       "      <td>...</td>\n",
       "      <td>NaN</td>\n",
       "      <td>NaN</td>\n",
       "      <td>NaN</td>\n",
       "      <td>NaN</td>\n",
       "      <td>NaN</td>\n",
       "      <td>NaN</td>\n",
       "      <td>NaN</td>\n",
       "      <td>NaN</td>\n",
       "      <td>NaN</td>\n",
       "      <td>N</td>\n",
       "    </tr>\n",
       "    <tr>\n",
       "      <th>2</th>\n",
       "      <td>84253847</td>\n",
       "      <td>23200.0</td>\n",
       "      <td>23200.0</td>\n",
       "      <td>23200.0</td>\n",
       "      <td>60 months</td>\n",
       "      <td>24.99%</td>\n",
       "      <td>680.82</td>\n",
       "      <td>E</td>\n",
       "      <td>E4</td>\n",
       "      <td>Production Foreman</td>\n",
       "      <td>...</td>\n",
       "      <td>NaN</td>\n",
       "      <td>NaN</td>\n",
       "      <td>NaN</td>\n",
       "      <td>NaN</td>\n",
       "      <td>NaN</td>\n",
       "      <td>NaN</td>\n",
       "      <td>NaN</td>\n",
       "      <td>NaN</td>\n",
       "      <td>NaN</td>\n",
       "      <td>Y</td>\n",
       "    </tr>\n",
       "    <tr>\n",
       "      <th>3</th>\n",
       "      <td>126296074</td>\n",
       "      <td>4500.0</td>\n",
       "      <td>4500.0</td>\n",
       "      <td>4500.0</td>\n",
       "      <td>36 months</td>\n",
       "      <td>9.93%</td>\n",
       "      <td>145.06</td>\n",
       "      <td>B</td>\n",
       "      <td>B2</td>\n",
       "      <td>Office Manager</td>\n",
       "      <td>...</td>\n",
       "      <td>NaN</td>\n",
       "      <td>NaN</td>\n",
       "      <td>NaN</td>\n",
       "      <td>NaN</td>\n",
       "      <td>NaN</td>\n",
       "      <td>NaN</td>\n",
       "      <td>NaN</td>\n",
       "      <td>NaN</td>\n",
       "      <td>NaN</td>\n",
       "      <td>N</td>\n",
       "    </tr>\n",
       "    <tr>\n",
       "      <th>4</th>\n",
       "      <td>148913312</td>\n",
       "      <td>15000.0</td>\n",
       "      <td>15000.0</td>\n",
       "      <td>15000.0</td>\n",
       "      <td>36 months</td>\n",
       "      <td>16.40%</td>\n",
       "      <td>530.33</td>\n",
       "      <td>C</td>\n",
       "      <td>C4</td>\n",
       "      <td>Secretary</td>\n",
       "      <td>...</td>\n",
       "      <td>May-2020</td>\n",
       "      <td>Jul-2020</td>\n",
       "      <td>May-2020</td>\n",
       "      <td>2.0</td>\n",
       "      <td>0.0</td>\n",
       "      <td>ACTIVE</td>\n",
       "      <td>413.83</td>\n",
       "      <td>11025.25</td>\n",
       "      <td>54.62</td>\n",
       "      <td>N</td>\n",
       "    </tr>\n",
       "  </tbody>\n",
       "</table>\n",
       "<p>5 rows × 141 columns</p>\n",
       "</div>"
      ],
      "text/plain": [
       "          id  loan_amnt  funded_amnt  funded_amnt_inv        term int_rate  \\\n",
       "0  124989905     6000.0       6000.0           6000.0   36 months    7.97%   \n",
       "1  139665484    35000.0      35000.0          35000.0   60 months   14.47%   \n",
       "2   84253847    23200.0      23200.0          23200.0   60 months   24.99%   \n",
       "3  126296074     4500.0       4500.0           4500.0   36 months    9.93%   \n",
       "4  148913312    15000.0      15000.0          15000.0   36 months   16.40%   \n",
       "\n",
       "   installment grade sub_grade           emp_title  ... hardship_start_date  \\\n",
       "0       187.94     A        A5             Teacher  ...                 NaN   \n",
       "1       822.95     C        C2  Product Specialist  ...                 NaN   \n",
       "2       680.82     E        E4  Production Foreman  ...                 NaN   \n",
       "3       145.06     B        B2      Office Manager  ...                 NaN   \n",
       "4       530.33     C        C4           Secretary  ...            May-2020   \n",
       "\n",
       "  hardship_end_date  payment_plan_start_date hardship_length hardship_dpd  \\\n",
       "0               NaN                      NaN             NaN          NaN   \n",
       "1               NaN                      NaN             NaN          NaN   \n",
       "2               NaN                      NaN             NaN          NaN   \n",
       "3               NaN                      NaN             NaN          NaN   \n",
       "4          Jul-2020                 May-2020             2.0          0.0   \n",
       "\n",
       "  hardship_loan_status orig_projected_additional_accrued_interest  \\\n",
       "0                  NaN                                        NaN   \n",
       "1                  NaN                                        NaN   \n",
       "2                  NaN                                        NaN   \n",
       "3                  NaN                                        NaN   \n",
       "4               ACTIVE                                     413.83   \n",
       "\n",
       "  hardship_payoff_balance_amount hardship_last_payment_amount  \\\n",
       "0                            NaN                          NaN   \n",
       "1                            NaN                          NaN   \n",
       "2                            NaN                          NaN   \n",
       "3                            NaN                          NaN   \n",
       "4                       11025.25                        54.62   \n",
       "\n",
       "  debt_settlement_flag  \n",
       "0                    N  \n",
       "1                    N  \n",
       "2                    Y  \n",
       "3                    N  \n",
       "4                    N  \n",
       "\n",
       "[5 rows x 141 columns]"
      ]
     },
     "execution_count": 59,
     "metadata": {},
     "output_type": "execute_result"
    }
   ],
   "source": [
    "file_path = FOLDER_PATH+\"lending_club_2020_train.csv\"\n",
    "origin_data = pd.read_csv(file_path)\n",
    "origin_data.head()"
   ]
  },
  {
   "cell_type": "code",
   "execution_count": 60,
   "metadata": {},
   "outputs": [
    {
     "name": "stdout",
     "output_type": "stream",
     "text": [
      "['Fully Paid' 'Current' 'Charged Off' ... 'Fully Paid' 'Fully Paid'\n",
      " 'Current']\n"
     ]
    },
    {
     "data": {
      "text/plain": [
       "'\\nfor status in loan_statuses:\\n    print(\"====={status}\")\\n    print(len(origin_data[(origin_data[\\'hardship_flag\\']==\\'Y\\')&(origin_data[\\'loan_status\\']==status)]))\\n    print(len(origin_data[(origin_data[\\'hardship_flag\\']==\\'Y\\') & (origin_data[\\'loan_status\\']==status)])*100/len(origin_data[origin_data[\\'hardship_flag\\']==\\'Y\\']))\\n'"
      ]
     },
     "execution_count": 60,
     "metadata": {},
     "output_type": "execute_result"
    }
   ],
   "source": [
    "loan_statuses = origin_data['loan_status'].values\n",
    "print(loan_statuses)\n",
    "'''\n",
    "for status in loan_statuses:\n",
    "    print(\"====={status}\")\n",
    "    print(len(origin_data[(origin_data['hardship_flag']=='Y')&(origin_data['loan_status']==status)]))\n",
    "    print(len(origin_data[(origin_data['hardship_flag']=='Y') & (origin_data['loan_status']==status)])*100/len(origin_data[origin_data['hardship_flag']=='Y']))\n",
    "'''"
   ]
  },
  {
   "cell_type": "code",
   "execution_count": 61,
   "metadata": {},
   "outputs": [],
   "source": [
    "# drop할 컬럼들을 일단 처리한다.\n",
    "with open('data/'+'drop_columns.txt', mode='r') as f:\n",
    "    drop_fields = f.readlines()\n",
    "    drop_fields = [drop_field.strip('\\n') for drop_field in drop_fields]"
   ]
  },
  {
   "cell_type": "code",
   "execution_count": null,
   "metadata": {},
   "outputs": [],
   "source": []
  },
  {
   "cell_type": "code",
   "execution_count": 62,
   "metadata": {},
   "outputs": [],
   "source": [
    "drop_df = origin_data.drop(columns=drop_fields)"
   ]
  },
  {
   "cell_type": "code",
   "execution_count": 63,
   "metadata": {},
   "outputs": [
    {
     "data": {
      "text/plain": [
       "79"
      ]
     },
     "execution_count": 63,
     "metadata": {},
     "output_type": "execute_result"
    }
   ],
   "source": [
    "len(drop_df.columns)"
   ]
  },
  {
   "cell_type": "code",
   "execution_count": 64,
   "metadata": {},
   "outputs": [
    {
     "data": {
      "text/plain": [
       "loan_status\n",
       "Fully Paid                                             898522\n",
       "Current                                                618688\n",
       "Charged Off                                            217366\n",
       "Late (31-120 days)                                       9840\n",
       "In Grace Period                                          6049\n",
       "Late (16-30 days)                                        1620\n",
       "Issued                                                   1258\n",
       "Does not meet the credit policy. Status:Fully Paid       1223\n",
       "Does not meet the credit policy. Status:Charged Off       460\n",
       "Default                                                   268\n",
       "Name: count, dtype: int64"
      ]
     },
     "execution_count": 64,
     "metadata": {},
     "output_type": "execute_result"
    }
   ],
   "source": [
    "drop_df['loan_status'].value_counts()"
   ]
  },
  {
   "cell_type": "code",
   "execution_count": 65,
   "metadata": {},
   "outputs": [],
   "source": [
    "modified_df = drop_df[~drop_df['loan_status'].isin(['Current', 'Issued', 'Does not meet the credit policy. Status:Fully Paid', 'Does not meet the credit policy. Status:Charged Off'])]"
   ]
  },
  {
   "cell_type": "code",
   "execution_count": 66,
   "metadata": {},
   "outputs": [],
   "source": [
    "modified_df.loc[modified_df['loan_status'].isin(['Fully Paid', 'In Grace Period']), 'loan_status'] = 0\n",
    "modified_df.loc[modified_df['loan_status'].isin(['Charged Off', 'Default', 'Late (16-30 days)', 'Late (31-120 days)']), 'loan_status'] = 1"
   ]
  },
  {
   "cell_type": "code",
   "execution_count": 67,
   "metadata": {},
   "outputs": [
    {
     "data": {
      "text/plain": [
       "1133666"
      ]
     },
     "execution_count": 67,
     "metadata": {},
     "output_type": "execute_result"
    }
   ],
   "source": [
    "len(modified_df)"
   ]
  },
  {
   "cell_type": "code",
   "execution_count": 68,
   "metadata": {},
   "outputs": [
    {
     "data": {
      "text/plain": [
       "1133666"
      ]
     },
     "execution_count": 68,
     "metadata": {},
     "output_type": "execute_result"
    }
   ],
   "source": [
    "len(modified_df.duplicated())"
   ]
  },
  {
   "cell_type": "code",
   "execution_count": 69,
   "metadata": {},
   "outputs": [],
   "source": [
    "modified_df = modified_df.dropna(subset=modified_df.columns.difference(['loan_status']),how='all')"
   ]
  },
  {
   "cell_type": "code",
   "execution_count": 70,
   "metadata": {},
   "outputs": [],
   "source": [
    "# term : 36 months -> 36 으로 변환해줘야한다.\n",
    "# modified_df['term'] = modified_df['term'].astype(str).apply(delete_suffix)\n",
    "\n",
    "# 이 함수는 쓸 일 없어짐(int_rate 필드 drop함)\n",
    "# modified_df['int_rate'] = modified_df['int_rate'].astype(str).apply(delete_suffix_percentage)\n",
    "\n",
    "# modified_df['revol_util'] = modified_df['revol_util'].astype(str).apply(delete_suffix_percentage)\n",
    "\n",
    "# zip_code : 554xx -> 554로 변환해줘야한다.\n",
    "# modified_df['zip_code'] = modified_df['zip_code'].astype(str).apply(delete_suffix_xx)\n",
    "\n",
    "\n",
    "# columns_to_modify = ['earliest_cr_line','last_pymnt_d','next_pymnt_d',\n",
    "#                      'last_credit_pull_d','sec_app_earliest_cr_line',\n",
    "#                      'hardship_start_date','hardship_end_date',\n",
    "#                      'payment_plan_start_date', 'issue_d']\n",
    "# apply_to_multiple_columns(columns_to_modify)\n",
    "\n",
    "def delete_suffix(term:str)->int:\n",
    "    '''첫 단어만을 저장하는 함수'''\n",
    "    term = term.strip().split()[0]\n",
    "    return int(term)\n",
    "\n",
    "def delete_suffix_percentage(term:str)->float:\n",
    "    '''%를 자르는 함수'''\n",
    "    term = term.strip('%')\n",
    "    return float(term)\n",
    "\n",
    "def delete_suffix_xx(term:str)->int:\n",
    "    '''xx를 자르는 함수'''\n",
    "    term = term.strip('xx')\n",
    "    return int(term)\n",
    "\n",
    "def apply_to_multiple_columns(date_columns:list)->None:\n",
    "    '''modified_df에서 %b-%Y(Aug-2006) 형식의 날짜 정보를 %Y-%m-%d(2006-08-01)형태로 저장하는 함수'''\n",
    "    for col in date_columns:\n",
    "        modified_df[col]=pd.to_datetime(modified_df[col], format='%b-%Y')\n",
    "\n",
    "def process_emp_length(term:str)->int:\n",
    "    if term =='< 1 year':\n",
    "        return 0\n",
    "    elif term=='10+ years':\n",
    "        return 10\n",
    "    term = term.strip()"
   ]
  },
  {
   "cell_type": "code",
   "execution_count": 71,
   "metadata": {},
   "outputs": [],
   "source": [
    "modified_df['term'] = modified_df['term'].astype(str).apply(delete_suffix)"
   ]
  },
  {
   "cell_type": "code",
   "execution_count": 72,
   "metadata": {},
   "outputs": [
    {
     "data": {
      "text/plain": [
       "Index(['sub_grade', 'emp_length', 'home_ownership', 'verification_status',\n",
       "       'issue_d', 'loan_status', 'purpose', 'addr_state', 'revol_util',\n",
       "       'application_type', 'verification_status_joint'],\n",
       "      dtype='object')"
      ]
     },
     "execution_count": 72,
     "metadata": {},
     "output_type": "execute_result"
    }
   ],
   "source": [
    "modified_df.select_dtypes('object').columns"
   ]
  },
  {
   "cell_type": "code",
   "execution_count": 73,
   "metadata": {},
   "outputs": [
    {
     "data": {
      "text/plain": [
       "Index(['mths_since_last_delinq', 'mths_since_last_record',\n",
       "       'mths_since_last_major_derog', 'annual_inc_joint', 'dti_joint',\n",
       "       'verification_status_joint', 'mths_since_recent_bc_dlq',\n",
       "       'mths_since_recent_revol_delinq'],\n",
       "      dtype='object')"
      ]
     },
     "execution_count": 73,
     "metadata": {},
     "output_type": "execute_result"
    }
   ],
   "source": [
    "THRESHOLD = 50\n",
    "\n",
    "null_percentages = (modified_df.isnull().sum() * 100) / len(modified_df)\n",
    "columns_to_drop = null_percentages[null_percentages >= THRESHOLD].index\n",
    "columns_to_keep = null_percentages[null_percentages < THRESHOLD].index\n",
    "# 필드 추출\n",
    "filtered_df = modified_df[columns_to_keep]\n",
    "filtered_df.columns\n",
    "columns_to_drop"
   ]
  },
  {
   "cell_type": "code",
   "execution_count": 74,
   "metadata": {},
   "outputs": [
    {
     "name": "stdout",
     "output_type": "stream",
     "text": [
      "439\n"
     ]
    },
    {
     "data": {
      "text/plain": [
       "pub_rec_bankruptcies\n",
       "0.0     992516\n",
       "1.0     133256\n",
       "2.0       5796\n",
       "3.0       1186\n",
       "4.0        305\n",
       "5.0        109\n",
       "6.0         34\n",
       "7.0         14\n",
       "8.0          6\n",
       "9.0          2\n",
       "11.0         1\n",
       "12.0         1\n",
       "Name: count, dtype: int64"
      ]
     },
     "execution_count": 74,
     "metadata": {},
     "output_type": "execute_result"
    }
   ],
   "source": [
    "result_df = filtered_df[(filtered_df['pub_rec_bankruptcies'] != 0)]\n",
    "print(filtered_df['pub_rec_bankruptcies'].isna().sum())\n",
    "filtered_df['pub_rec_bankruptcies'].value_counts()"
   ]
  },
  {
   "cell_type": "code",
   "execution_count": 75,
   "metadata": {},
   "outputs": [
    {
     "data": {
      "text/plain": [
       "(1133665, 71)"
      ]
     },
     "execution_count": 75,
     "metadata": {},
     "output_type": "execute_result"
    }
   ],
   "source": [
    "filtered_df.shape"
   ]
  },
  {
   "cell_type": "code",
   "execution_count": 76,
   "metadata": {},
   "outputs": [
    {
     "data": {
      "text/plain": [
       "Index(['sub_grade', 'emp_length', 'home_ownership', 'verification_status',\n",
       "       'issue_d', 'loan_status', 'purpose', 'addr_state', 'revol_util',\n",
       "       'application_type'],\n",
       "      dtype='object')"
      ]
     },
     "execution_count": 76,
     "metadata": {},
     "output_type": "execute_result"
    }
   ],
   "source": [
    "filtered_df.select_dtypes('object').columns"
   ]
  },
  {
   "cell_type": "code",
   "execution_count": 77,
   "metadata": {},
   "outputs": [
    {
     "data": {
      "text/plain": [
       "<Axes: xlabel='revol_bal'>"
      ]
     },
     "execution_count": 77,
     "metadata": {},
     "output_type": "execute_result"
    },
    {
     "data": {
      "image/png": "[encoded data removed]",
      "text/plain": [
       "<Figure size 640x480 with 1 Axes>"
      ]
     },
     "metadata": {},
     "output_type": "display_data"
    }
   ],
   "source": [
    "sns.boxplot(data=filtered_df, x='revol_bal')"
   ]
  },
  {
   "cell_type": "code",
   "execution_count": 78,
   "metadata": {},
   "outputs": [
    {
     "data": {
      "text/plain": [
       "(1133665, 71)"
      ]
     },
     "execution_count": 78,
     "metadata": {},
     "output_type": "execute_result"
    }
   ],
   "source": [
    "filtered_df.shape"
   ]
  },
  {
   "cell_type": "code",
   "execution_count": 79,
   "metadata": {},
   "outputs": [],
   "source": [
    "def check_field(column_name:str)->None:\n",
    "    print(\"==============isnull\")\n",
    "    print(filtered_df[column_name].isnull().sum()*100/len(filtered_df[column_name]), '%')\n",
    "    print(\"==============isna\")\n",
    "    print(filtered_df[column_name].isna().sum()*100/len(filtered_df[column_name]), '%')\n",
    "    print(\"==============head\")\n",
    "    print(filtered_df[column_name].head())\n",
    "    print(\"==============value_count\")\n",
    "    print(filtered_df[column_name].value_counts())"
   ]
  },
  {
   "cell_type": "code",
   "execution_count": 80,
   "metadata": {},
   "outputs": [
    {
     "data": {
      "text/plain": [
       "72190"
      ]
     },
     "execution_count": 80,
     "metadata": {},
     "output_type": "execute_result"
    }
   ],
   "source": [
    "filtered_df['emp_length'].isna().sum()"
   ]
  },
  {
   "cell_type": "code",
   "execution_count": 81,
   "metadata": {},
   "outputs": [
    {
     "name": "stdout",
     "output_type": "stream",
     "text": [
      "==============isnull\n",
      "44.833526659110056 %\n",
      "==============isna\n",
      "44.833526659110056 %\n",
      "==============head\n",
      "0    0.0\n",
      "2    3.0\n",
      "5    0.0\n",
      "6    0.0\n",
      "7    NaN\n",
      "Name: total_cu_tl, dtype: float64\n",
      "==============value_count\n",
      "total_cu_tl\n",
      "0.0     330621\n",
      "1.0     105028\n",
      "2.0      59299\n",
      "3.0      37934\n",
      "4.0      25532\n",
      "5.0      17691\n",
      "6.0      13098\n",
      "7.0       9203\n",
      "8.0       6821\n",
      "9.0       4982\n",
      "10.0      3649\n",
      "11.0      2689\n",
      "12.0      2002\n",
      "13.0      1585\n",
      "14.0      1203\n",
      "15.0       946\n",
      "16.0       686\n",
      "17.0       514\n",
      "18.0       390\n",
      "19.0       302\n",
      "20.0       229\n",
      "21.0       181\n",
      "22.0       148\n",
      "23.0       127\n",
      "24.0       109\n",
      "25.0        79\n",
      "26.0        71\n",
      "27.0        43\n",
      "28.0        39\n",
      "30.0        32\n",
      "29.0        24\n",
      "32.0        20\n",
      "31.0        18\n",
      "33.0        16\n",
      "34.0        14\n",
      "35.0        12\n",
      "37.0         9\n",
      "40.0         8\n",
      "36.0         7\n",
      "38.0         5\n",
      "41.0         4\n",
      "54.0         4\n",
      "49.0         4\n",
      "44.0         3\n",
      "45.0         3\n",
      "39.0         3\n",
      "42.0         3\n",
      "48.0         2\n",
      "56.0         2\n",
      "43.0         2\n",
      "68.0         2\n",
      "60.0         1\n",
      "71.0         1\n",
      "79.0         1\n",
      "55.0         1\n",
      "47.0         1\n",
      "Name: count, dtype: int64\n"
     ]
    }
   ],
   "source": [
    "check_field(\"total_cu_tl\")"
   ]
  },
  {
   "cell_type": "code",
   "execution_count": 82,
   "metadata": {},
   "outputs": [
    {
     "name": "stdout",
     "output_type": "stream",
     "text": [
      "[ 0.  1.  2.  3.  4.  5.  6.  7.  8.  9. 11. 12.]\n",
      "0.0\n",
      "80.21563380338453\n",
      "1.0\n",
      "76.90685597646635\n",
      "2.0\n",
      "74.44789510006902\n",
      "3.0\n",
      "77.48735244519393\n",
      "4.0\n",
      "70.49180327868852\n",
      "5.0\n",
      "74.31192660550458\n",
      "6.0\n",
      "76.47058823529412\n",
      "7.0\n",
      "71.42857142857143\n",
      "8.0\n",
      "83.33333333333333\n",
      "9.0\n",
      "50.0\n",
      "11.0\n",
      "0.0\n",
      "12.0\n",
      "100.0\n",
      "na\n",
      "82.46013667425969\n"
     ]
    },
    {
     "data": {
      "text/plain": [
       "[<matplotlib.lines.Line2D at 0x28f4f4190>]"
      ]
     },
     "execution_count": 82,
     "metadata": {},
     "output_type": "execute_result"
    },
    {
     "data": {
      "image/png": "[encoded data removed]",
      "text/plain": [
       "<Figure size 640x480 with 1 Axes>"
      ]
     },
     "metadata": {},
     "output_type": "display_data"
    }
   ],
   "source": [
    "target_column = \"pub_rec_bankruptcies\"\n",
    "column_values =filtered_df[target_column].unique()\n",
    "column_values = column_values[~pd.isna(column_values)]\n",
    "column_values.sort()\n",
    "print(column_values)\n",
    "x = []\n",
    "y =[]\n",
    "for value in column_values:\n",
    "    pos_percent = len(filtered_df[(filtered_df[target_column]==value) & (filtered_df['loan_status']==0)])*100/len(filtered_df[filtered_df[target_column]==value])\n",
    "    print(value)\n",
    "    print(pos_percent)\n",
    "    x.append(value)\n",
    "    y.append(pos_percent)\n",
    "\n",
    "print(\"na\")\n",
    "print(len(filtered_df[(filtered_df[target_column].isna()) & (filtered_df['loan_status']==0)])*100/len(filtered_df[filtered_df[target_column].isna()]))\n",
    "plt.plot(x, y)"
   ]
  },
  {
   "cell_type": "code",
   "execution_count": 104,
   "metadata": {},
   "outputs": [
    {
     "name": "stdout",
     "output_type": "stream",
     "text": [
      "====before column_values\n",
      "num_rev_tl_bal_gt_0\n",
      "0.0       5699\n",
      "1.0      42327\n",
      "2.0     107389\n",
      "3.0     155643\n",
      "4.0     168781\n",
      "5.0     153728\n",
      "6.0     125211\n",
      "7.0      96024\n",
      "8.0      70500\n",
      "9.0      50694\n",
      "10.0     35430\n",
      "11.0     24406\n",
      "12.0     17214\n",
      "13.0     11808\n",
      "14.0      8249\n",
      "15.0      5852\n",
      "16.0      4218\n",
      "17.0      2930\n",
      "18.0      2016\n",
      "19.0      1442\n",
      "20.0      1015\n",
      "21.0       718\n",
      "22.0       516\n",
      "23.0       368\n",
      "24.0       278\n",
      "25.0       235\n",
      "26.0       141\n",
      "27.0       119\n",
      "28.0        79\n",
      "29.0        67\n",
      "30.0        41\n",
      "31.0        35\n",
      "32.0        21\n",
      "33.0        10\n",
      "34.0        14\n",
      "35.0        11\n",
      "36.0         9\n",
      "37.0         3\n",
      "38.0         6\n",
      "39.0         2\n",
      "40.0         1\n",
      "41.0         2\n",
      "42.0         1\n",
      "43.0         2\n",
      "44.0         1\n",
      "45.0         1\n",
      "55.0         1\n",
      "58.0         1\n",
      "59.0         1\n",
      "65.0         1\n",
      "Name: count, dtype: int64\n",
      "====before column_values_safe\n",
      "num_rev_tl_bal_gt_0\n",
      "0.0       4529\n",
      "1.0      34906\n",
      "2.0      88582\n",
      "3.0     127809\n",
      "4.0     136740\n",
      "5.0     122971\n",
      "6.0      99027\n",
      "7.0      75156\n",
      "8.0      54564\n",
      "9.0      38768\n",
      "10.0     26915\n",
      "11.0     18288\n",
      "12.0     12738\n",
      "13.0      8779\n",
      "14.0      6092\n",
      "15.0      4251\n",
      "16.0      3064\n",
      "17.0      2145\n",
      "18.0      1390\n",
      "19.0      1058\n",
      "20.0       721\n",
      "21.0       510\n",
      "22.0       360\n",
      "23.0       270\n",
      "24.0       203\n",
      "25.0       159\n",
      "26.0       103\n",
      "27.0        78\n",
      "28.0        57\n",
      "29.0        44\n",
      "30.0        28\n",
      "31.0        26\n",
      "32.0        15\n",
      "33.0         4\n",
      "34.0        11\n",
      "35.0         7\n",
      "36.0         6\n",
      "37.0         2\n",
      "38.0         4\n",
      "40.0         1\n",
      "41.0         1\n",
      "42.0         1\n",
      "43.0         2\n",
      "58.0         1\n",
      "59.0         1\n",
      "65.0         1\n",
      "Name: count, dtype: int64\n",
      "-======after column_values\n",
      "num_rev_tl_bal_gt_0\n",
      "0.0       5699\n",
      "1.0      42327\n",
      "2.0     107389\n",
      "3.0     155643\n",
      "4.0     168781\n",
      "5.0     153728\n",
      "6.0     125211\n",
      "7.0      96024\n",
      "8.0      70500\n",
      "9.0      50694\n",
      "10.0     35430\n",
      "11.0     24406\n",
      "12.0     17214\n",
      "13.0     11808\n",
      "14.0      8249\n",
      "15.0      5852\n",
      "16.0      4218\n",
      "17.0      2930\n",
      "18.0      2016\n",
      "19.0      1442\n",
      "20.0      1015\n",
      "21.0       718\n",
      "22.0       516\n",
      "23.0       368\n",
      "24.0       278\n",
      "25.0       235\n",
      "26.0       141\n",
      "27.0       119\n",
      "28.0        79\n",
      "29.0        67\n",
      "30.0        41\n",
      "31.0        35\n",
      "32.0        21\n",
      "33.0        10\n",
      "34.0        14\n",
      "35.0        11\n",
      "36.0         9\n",
      "37.0         3\n",
      "38.0         6\n",
      "39.0         2\n",
      "40.0         1\n",
      "41.0         2\n",
      "42.0         1\n",
      "43.0         2\n",
      "44.0         1\n",
      "45.0         1\n",
      "55.0         1\n",
      "58.0         1\n",
      "59.0         1\n",
      "65.0         1\n",
      "Name: count, dtype: int64\n",
      "-======after column_values_safe\n",
      "num_rev_tl_bal_gt_0\n",
      "0.0       4529\n",
      "1.0      34906\n",
      "2.0      88582\n",
      "3.0     127809\n",
      "4.0     136740\n",
      "5.0     122971\n",
      "6.0      99027\n",
      "7.0      75156\n",
      "8.0      54564\n",
      "9.0      38768\n",
      "10.0     26915\n",
      "11.0     18288\n",
      "12.0     12738\n",
      "13.0      8779\n",
      "14.0      6092\n",
      "15.0      4251\n",
      "16.0      3064\n",
      "17.0      2145\n",
      "18.0      1390\n",
      "19.0      1058\n",
      "20.0       721\n",
      "21.0       510\n",
      "22.0       360\n",
      "23.0       270\n",
      "24.0       203\n",
      "25.0       159\n",
      "26.0       103\n",
      "27.0        78\n",
      "28.0        57\n",
      "29.0        44\n",
      "30.0        28\n",
      "31.0        26\n",
      "32.0        15\n",
      "33.0         4\n",
      "34.0        11\n",
      "35.0         7\n",
      "36.0         6\n",
      "37.0         2\n",
      "38.0         4\n",
      "40.0         1\n",
      "41.0         1\n",
      "42.0         1\n",
      "43.0         2\n",
      "58.0         1\n",
      "59.0         1\n",
      "65.0         1\n",
      "39.0         0\n",
      "44.0         0\n",
      "45.0         0\n",
      "55.0         0\n",
      "Name: count, dtype: int64\n"
     ]
    },
    {
     "data": {
      "image/png": "[encoded data removed]",
      "text/plain": [
       "<Figure size 2000x800 with 1 Axes>"
      ]
     },
     "metadata": {},
     "output_type": "display_data"
    },
    {
     "data": {
      "image/png": "[encoded data removed]",
      "text/plain": [
       "<Figure size 2000x800 with 1 Axes>"
      ]
     },
     "metadata": {},
     "output_type": "display_data"
    }
   ],
   "source": [
    "import matplotlib.pyplot as plt\n",
    "\n",
    "def plot_col(filtered_df, target_column):\n",
    "  \"\"\"\n",
    "    target_column의 값 별 도수를 시각화하는 함수\n",
    "    target_column은 수치형 변수 (우선 정수형 변수만..)\n",
    "\n",
    "    arguments:\n",
    "      filtered_df : 데이터프레임\n",
    "      target_column : filtered_df에서 시각화할 변수\n",
    "      loan_status : 반응변수 종류. 값 = {0,1}\n",
    "    result:\n",
    "      barplot 시각화\n",
    "  \"\"\"\n",
    "  column_values = filtered_df[target_column].value_counts().sort_index()\n",
    "  num_notna = column_values.sum()\n",
    "\n",
    "  plt.figure(figsize=(20,8))\n",
    "  print(\"====before column_values\")\n",
    "  print(column_values)\n",
    "  column_values_safe = filtered_df[filtered_df['loan_status']==0][target_column].value_counts().sort_index()\n",
    "  print(\"====before column_values_safe\")\n",
    "  print(column_values_safe)\n",
    "  \n",
    "  for value in column_values_safe.index:\n",
    "    if value not in column_values:\n",
    "      column_values[value] = 0\n",
    "\n",
    "  # b_value_counts에 없는 값에 대해 a_value_counts에 0으로 추가\n",
    "  for value in column_values.index:\n",
    "    if value not in column_values_safe:\n",
    "      column_values_safe[value] = 0\n",
    "  print(\"-======after column_values\")\n",
    "  print(column_values)\n",
    "  print(\"-======after column_values_safe\")\n",
    "  print(column_values_safe)\n",
    "  pos_percent = [val / total for val, total in zip(column_values_safe, column_values)]\n",
    "\n",
    "  plt.bar(column_values.index, column_values, color='r')\n",
    "  plt.bar(column_values.index, column_values_safe)\n",
    "  plt.show()\n",
    "  plt.figure(figsize=(20,8))\n",
    "  plt.bar(column_values.index, [1]*len(column_values), color='r')\n",
    "  plt.bar(column_values.index, pos_percent)\n",
    "  plt.show()\n",
    "\n",
    "plot_col(filtered_df, 'num_rev_tl_bal_gt_0')"
   ]
  },
  {
   "cell_type": "code",
   "execution_count": 84,
   "metadata": {},
   "outputs": [
    {
     "data": {
      "text/plain": [
       "(1133665, 71)"
      ]
     },
     "execution_count": 84,
     "metadata": {},
     "output_type": "execute_result"
    }
   ],
   "source": [
    "filtered_df.shape"
   ]
  },
  {
   "cell_type": "code",
   "execution_count": 85,
   "metadata": {},
   "outputs": [
    {
     "name": "stdout",
     "output_type": "stream",
     "text": [
      "==============isnull\n",
      "0.0 %\n",
      "==============isna\n",
      "0.0 %\n",
      "==============head\n",
      "0    debt_consolidation\n",
      "2    debt_consolidation\n",
      "5      home_improvement\n",
      "6      home_improvement\n",
      "7           credit_card\n",
      "Name: purpose, dtype: object\n",
      "==============value_count\n",
      "purpose\n",
      "debt_consolidation    648300\n",
      "credit_card           251730\n",
      "home_improvement       75174\n",
      "other                  69046\n",
      "major_purchase         25495\n",
      "medical                13778\n",
      "small_business         12550\n",
      "car                    12240\n",
      "vacation                8140\n",
      "moving                  7965\n",
      "house                   6922\n",
      "wedding                 1339\n",
      "renewable_energy         806\n",
      "educational              180\n",
      "Name: count, dtype: int64\n"
     ]
    }
   ],
   "source": [
    "check_field(\"purpose\")"
   ]
  },
  {
   "cell_type": "code",
   "execution_count": 86,
   "metadata": {},
   "outputs": [
    {
     "data": {
      "text/plain": [
       "'\\nemp length, \\ndesc, \\nearliest cr line, \\nfico range low, \\nfico range high\\n'"
      ]
     },
     "execution_count": 86,
     "metadata": {},
     "output_type": "execute_result"
    }
   ],
   "source": [
    "'''\n",
    "emp length, \n",
    "desc, \n",
    "earliest cr line, \n",
    "fico range low, \n",
    "fico range high\n",
    "'''"
   ]
  },
  {
   "cell_type": "code",
   "execution_count": 87,
   "metadata": {},
   "outputs": [
    {
     "data": {
      "text/plain": [
       "18.04207278923075"
      ]
     },
     "execution_count": 87,
     "metadata": {},
     "output_type": "execute_result"
    }
   ],
   "source": [
    "pub_rec_bankruptcies_df = filtered_df[filtered_df['total_cu_tl'].isna()]\n",
    "len(pub_rec_bankruptcies_df[pub_rec_bankruptcies_df['loan_status']==1])*100/len(pub_rec_bankruptcies_df)"
   ]
  },
  {
   "cell_type": "code",
   "execution_count": 88,
   "metadata": {},
   "outputs": [
    {
     "name": "stdout",
     "output_type": "stream",
     "text": [
      "36 83.73268998337672 16.267310016623284\n",
      "60 68.17991937673622 31.820080623263777\n"
     ]
    },
    {
     "data": {
      "image/png": "[encoded data removed]",
      "text/plain": [
       "<Figure size 640x480 with 1 Axes>"
      ]
     },
     "metadata": {},
     "output_type": "display_data"
    }
   ],
   "source": [
    "def print_term():\n",
    "    x = np.arange(2)\n",
    "    months = [36, 60]\n",
    "    pos = []\n",
    "    neg = []\n",
    "    filtered_df.head()\n",
    "    for data in months:\n",
    "        month_df = filtered_df[filtered_df['term']==data]\n",
    "        positive_percent = len(month_df[month_df['loan_status']==0])*100/len(month_df)\n",
    "        negative_percent = 100-positive_percent\n",
    "        pos.append(positive_percent)\n",
    "        neg.append(negative_percent)\n",
    "        print(data, positive_percent, negative_percent)\n",
    "    plt.bar(x, pos, label='positive')\n",
    "    plt.xticks(x, months)\n",
    "    plt.bar(x, neg, label='negative', bottom=pos)\n",
    "    plt.legend()\n",
    "    plt.show()\n",
    "print_term()"
   ]
  },
  {
   "cell_type": "code",
   "execution_count": 89,
   "metadata": {},
   "outputs": [
    {
     "name": "stdout",
     "output_type": "stream",
     "text": [
      "A1 95.97331955007508\n",
      "A2 94.6468534598514\n",
      "A3 93.16347341510355\n",
      "A4 91.79787074523917\n",
      "A5 90.5840395610052\n",
      "B1 88.84742750989419\n",
      "B2 87.61316141941938\n",
      "B3 86.25108406351865\n",
      "B4 84.31609130138541\n",
      "B5 82.53067203808826\n",
      "C1 80.3563050258052\n",
      "C2 78.47216983267197\n",
      "C3 76.74672661927455\n",
      "C4 74.57951375049821\n",
      "C5 72.96689333058589\n",
      "D1 72.16959962206212\n",
      "D2 69.71351993729297\n",
      "D3 68.50226203673188\n",
      "D4 67.40630823383256\n",
      "D5 65.51682106289614\n",
      "E1 64.89241860989073\n",
      "E2 64.09799554565701\n",
      "E3 61.78896779284126\n",
      "E4 59.954252795662484\n",
      "E5 57.75907417148869\n",
      "F1 58.68779538504309\n",
      "F2 55.132778438367026\n",
      "F3 55.74780753733112\n",
      "F4 52.37952708769829\n",
      "F5 52.85103349964362\n",
      "G1 50.956602893140456\n",
      "G2 52.305574673090156\n",
      "G3 49.7789566755084\n",
      "G4 48.86486486486486\n",
      "G5 43.65361803084223\n"
     ]
    },
    {
     "data": {
      "image/png": "[encoded data removed]",
      "text/plain": [
       "<Figure size 640x480 with 1 Axes>"
      ]
     },
     "metadata": {},
     "output_type": "display_data"
    }
   ],
   "source": [
    "def print_sub_grade():\n",
    "    x = []\n",
    "    y = []\n",
    "    for c in ['A', 'B', 'C','D','E','F','G']:\n",
    "        for i in range(1, 6):\n",
    "            sub_grade = c+str(i)\n",
    "            sub_grade_df = filtered_df[filtered_df[\"sub_grade\"]==sub_grade]\n",
    "            positive_percent = len(sub_grade_df[sub_grade_df['loan_status']==0])*100/len(sub_grade_df)\n",
    "            x.append(sub_grade)\n",
    "            y.append(positive_percent)\n",
    "            print(sub_grade, positive_percent)\n",
    "    plt.plot(x,y)    \n",
    "print_sub_grade()"
   ]
  },
  {
   "cell_type": "code",
   "execution_count": 90,
   "metadata": {},
   "outputs": [],
   "source": [
    "filtered_df.to_csv(\"data/filtered_lending_club_data.csv\")"
   ]
  },
  {
   "cell_type": "code",
   "execution_count": 91,
   "metadata": {},
   "outputs": [
    {
     "data": {
      "text/html": [
       "<div>\n",
       "<style scoped>\n",
       "    .dataframe tbody tr th:only-of-type {\n",
       "        vertical-align: middle;\n",
       "    }\n",
       "\n",
       "    .dataframe tbody tr th {\n",
       "        vertical-align: top;\n",
       "    }\n",
       "\n",
       "    .dataframe thead th {\n",
       "        text-align: right;\n",
       "    }\n",
       "</style>\n",
       "<table border=\"1\" class=\"dataframe\">\n",
       "  <thead>\n",
       "    <tr style=\"text-align: right;\">\n",
       "      <th></th>\n",
       "      <th>loan_amnt</th>\n",
       "      <th>term</th>\n",
       "      <th>sub_grade</th>\n",
       "      <th>emp_length</th>\n",
       "      <th>home_ownership</th>\n",
       "      <th>annual_inc</th>\n",
       "      <th>verification_status</th>\n",
       "      <th>issue_d</th>\n",
       "      <th>loan_status</th>\n",
       "      <th>purpose</th>\n",
       "      <th>...</th>\n",
       "      <th>num_tl_30dpd</th>\n",
       "      <th>num_tl_90g_dpd_24m</th>\n",
       "      <th>num_tl_op_past_12m</th>\n",
       "      <th>pct_tl_nvr_dlq</th>\n",
       "      <th>percent_bc_gt_75</th>\n",
       "      <th>pub_rec_bankruptcies</th>\n",
       "      <th>tot_hi_cred_lim</th>\n",
       "      <th>total_bal_ex_mort</th>\n",
       "      <th>total_bc_limit</th>\n",
       "      <th>total_il_high_credit_limit</th>\n",
       "    </tr>\n",
       "  </thead>\n",
       "  <tbody>\n",
       "  </tbody>\n",
       "</table>\n",
       "<p>0 rows × 71 columns</p>\n",
       "</div>"
      ],
      "text/plain": [
       "Empty DataFrame\n",
       "Columns: [loan_amnt, term, sub_grade, emp_length, home_ownership, annual_inc, verification_status, issue_d, loan_status, purpose, addr_state, dti, delinq_2yrs, fico_range_low, fico_range_high, inq_last_6mths, open_acc, pub_rec, revol_bal, revol_util, total_acc, collections_12_mths_ex_med, application_type, acc_now_delinq, tot_cur_bal, open_acc_6m, open_act_il, open_il_12m, open_il_24m, mths_since_rcnt_il, total_bal_il, open_rv_12m, open_rv_24m, max_bal_bc, all_util, total_rev_hi_lim, total_cu_tl, acc_open_past_24mths, avg_cur_bal, bc_open_to_buy, bc_util, chargeoff_within_12_mths, delinq_amnt, mo_sin_old_il_acct, mo_sin_old_rev_tl_op, mo_sin_rcnt_rev_tl_op, mo_sin_rcnt_tl, mort_acc, mths_since_recent_bc, mths_since_recent_inq, num_accts_ever_120_pd, num_actv_bc_tl, num_actv_rev_tl, num_bc_sats, num_bc_tl, num_il_tl, num_op_rev_tl, num_rev_accts, num_rev_tl_bal_gt_0, num_sats, num_tl_120dpd_2m, num_tl_30dpd, num_tl_90g_dpd_24m, num_tl_op_past_12m, pct_tl_nvr_dlq, percent_bc_gt_75, pub_rec_bankruptcies, tot_hi_cred_lim, total_bal_ex_mort, total_bc_limit, total_il_high_credit_limit]\n",
       "Index: []\n",
       "\n",
       "[0 rows x 71 columns]"
      ]
     },
     "execution_count": 91,
     "metadata": {},
     "output_type": "execute_result"
    }
   ],
   "source": [
    "filtered_df[filtered_df['issue_d'].isna()]"
   ]
  },
  {
   "cell_type": "code",
   "execution_count": 92,
   "metadata": {},
   "outputs": [
    {
     "name": "stdout",
     "output_type": "stream",
     "text": [
      "Unnamed: 0 \t\t\t\t 0\n",
      "loan_amnt \t\t\t\t 0\n",
      "term \t\t\t\t 0\n",
      "sub_grade \t\t\t\t 0\n",
      "emp_length \t\t\t\t 72190\n",
      "home_ownership \t\t\t\t 0\n",
      "annual_inc \t\t\t\t 0\n",
      "verification_status \t\t\t\t 0\n",
      "issue_d \t\t\t\t 0\n",
      "loan_status \t\t\t\t 0\n",
      "purpose \t\t\t\t 0\n",
      "addr_state \t\t\t\t 0\n",
      "dti \t\t\t\t 679\n",
      "delinq_2yrs \t\t\t\t 0\n",
      "fico_range_low \t\t\t\t 0\n",
      "fico_range_high \t\t\t\t 0\n",
      "inq_last_6mths \t\t\t\t 0\n",
      "open_acc \t\t\t\t 0\n",
      "pub_rec \t\t\t\t 0\n",
      "revol_bal \t\t\t\t 0\n",
      "revol_util \t\t\t\t 866\n",
      "total_acc \t\t\t\t 0\n",
      "collections_12_mths_ex_med \t\t\t\t 38\n",
      "application_type \t\t\t\t 0\n",
      "acc_now_delinq \t\t\t\t 0\n",
      "tot_cur_bal \t\t\t\t 40404\n",
      "open_acc_6m \t\t\t\t 508262\n",
      "open_act_il \t\t\t\t 508262\n",
      "open_il_12m \t\t\t\t 508262\n",
      "open_il_24m \t\t\t\t 508262\n",
      "mths_since_rcnt_il \t\t\t\t 526428\n",
      "total_bal_il \t\t\t\t 508262\n",
      "open_rv_12m \t\t\t\t 508262\n",
      "open_rv_24m \t\t\t\t 508262\n",
      "max_bal_bc \t\t\t\t 508262\n",
      "all_util \t\t\t\t 508352\n",
      "total_rev_hi_lim \t\t\t\t 40404\n",
      "total_cu_tl \t\t\t\t 508262\n",
      "acc_open_past_24mths \t\t\t\t 28301\n",
      "avg_cur_bal \t\t\t\t 40441\n",
      "bc_open_to_buy \t\t\t\t 40758\n",
      "bc_util \t\t\t\t 41347\n",
      "chargeoff_within_12_mths \t\t\t\t 38\n",
      "delinq_amnt \t\t\t\t 0\n",
      "mo_sin_old_il_acct \t\t\t\t 73214\n",
      "mo_sin_old_rev_tl_op \t\t\t\t 40405\n",
      "mo_sin_rcnt_rev_tl_op \t\t\t\t 40405\n",
      "mo_sin_rcnt_tl \t\t\t\t 40404\n",
      "mort_acc \t\t\t\t 28301\n",
      "mths_since_recent_bc \t\t\t\t 39976\n",
      "mths_since_recent_inq \t\t\t\t 140443\n",
      "num_accts_ever_120_pd \t\t\t\t 40404\n",
      "num_actv_bc_tl \t\t\t\t 40404\n",
      "num_actv_rev_tl \t\t\t\t 40404\n",
      "num_bc_sats \t\t\t\t 33429\n",
      "num_bc_tl \t\t\t\t 40404\n",
      "num_il_tl \t\t\t\t 40404\n",
      "num_op_rev_tl \t\t\t\t 40404\n",
      "num_rev_accts \t\t\t\t 40405\n",
      "num_rev_tl_bal_gt_0 \t\t\t\t 40404\n",
      "num_sats \t\t\t\t 33429\n",
      "num_tl_120dpd_2m \t\t\t\t 81821\n",
      "num_tl_30dpd \t\t\t\t 40404\n",
      "num_tl_90g_dpd_24m \t\t\t\t 40404\n",
      "num_tl_op_past_12m \t\t\t\t 40404\n",
      "pct_tl_nvr_dlq \t\t\t\t 40504\n",
      "percent_bc_gt_75 \t\t\t\t 41032\n",
      "pub_rec_bankruptcies \t\t\t\t 439\n",
      "tot_hi_cred_lim \t\t\t\t 40404\n",
      "total_bal_ex_mort \t\t\t\t 28301\n",
      "total_bc_limit \t\t\t\t 28301\n",
      "total_il_high_credit_limit \t\t\t\t 40404\n"
     ]
    }
   ],
   "source": [
    "# FOLDER_PATH = \"/content/drive/MyDrive/2402빅데이터/\" ## 파일 경로\n",
    "file_path = \"data/filtered_lending_club_data.csv\"\n",
    "origin_data = pd.read_csv(file_path)\n",
    "\n",
    "for var in origin_data.columns:\n",
    "  print(var, '\\t\\t\\t\\t', origin_data[var].isna().sum())"
   ]
  },
  {
   "cell_type": "code",
   "execution_count": 93,
   "metadata": {},
   "outputs": [],
   "source": [
    "def modify_date(dataframe:pd.DataFrame, col:str)->None:\n",
    "    '''modified_df에서 %b-%Y(Aug-2006) 형식의 날짜 정보를 %Y-%m-%d(2006-08-01)형태로 저장하는 함수'''\n",
    "    dataframe[col]=pd.to_datetime(dataframe[col], format='%b-%Y')\n",
    "    dataframe[col+'_month'] = pd.to_datetime(dataframe[col], format='%b-%Y').dt.month\n",
    "    dataframe[col+'_year'] = pd.to_datetime(dataframe[col], format='%b-%Y').dt.year"
   ]
  },
  {
   "cell_type": "code",
   "execution_count": 94,
   "metadata": {},
   "outputs": [],
   "source": [
    "modify_date(origin_data, 'issue_d')"
   ]
  },
  {
   "cell_type": "code",
   "execution_count": 95,
   "metadata": {},
   "outputs": [],
   "source": [
    "def printing_null(column_name:str)->None:\n",
    "    f_df = origin_data[origin_data[column_name].isna()]\n",
    "    rtn = f_df['issue_d_year'].value_counts()\n",
    "    print('===============',column_name)\n",
    "    print(rtn)\n",
    "    print(sum(rtn))\n",
    "    rtn.plot.bar()\n",
    "    "
   ]
  },
  {
   "cell_type": "code",
   "execution_count": 96,
   "metadata": {},
   "outputs": [],
   "source": [
    "def printing_not_null(column_name:str)->None:\n",
    "    f_df = origin_data[~origin_data[column_name].isna()]\n",
    "    rtn = f_df['issue_d_year'].value_counts()\n",
    "    print(rtn)\n",
    "    print(sum(rtn))\n",
    "    rtn.plot.bar()\n",
    "    "
   ]
  },
  {
   "cell_type": "code",
   "execution_count": 97,
   "metadata": {},
   "outputs": [
    {
     "data": {
      "text/plain": [
       "508262"
      ]
     },
     "execution_count": 97,
     "metadata": {},
     "output_type": "execute_result"
    }
   ],
   "source": [
    "origin_data['open_acc_6m'].isna().sum()"
   ]
  },
  {
   "cell_type": "code",
   "execution_count": 98,
   "metadata": {},
   "outputs": [
    {
     "name": "stdout",
     "output_type": "stream",
     "text": [
      "issue_d_year\n",
      "2016    236200\n",
      "2015    235383\n",
      "2017    185932\n",
      "2014    136654\n",
      "2018    119469\n",
      "2013     78137\n",
      "2019     50711\n",
      "2012     14697\n",
      "2020      3268\n",
      "Name: count, dtype: int64\n",
      "1060451\n"
     ]
    },
    {
     "data": {
      "image/png": "[encoded data removed]",
      "text/plain": [
       "<Figure size 640x480 with 1 Axes>"
      ]
     },
     "metadata": {},
     "output_type": "display_data"
    }
   ],
   "source": [
    "printing_not_null('mo_sin_old_il_acct')"
   ]
  },
  {
   "cell_type": "code",
   "execution_count": 99,
   "metadata": {},
   "outputs": [
    {
     "name": "stdout",
     "output_type": "stream",
     "text": [
      "=============== tot_cur_bal\n",
      "issue_d_year\n",
      "2012    16652\n",
      "2011    12985\n",
      "2010     6856\n",
      "2009     2815\n",
      "2008      941\n",
      "2007      155\n",
      "Name: count, dtype: int64\n",
      "40404\n"
     ]
    },
    {
     "data": {
      "image/png": "[encoded data removed]",
      "text/plain": [
       "<Figure size 640x480 with 1 Axes>"
      ]
     },
     "metadata": {},
     "output_type": "display_data"
    }
   ],
   "source": [
    "printing_null('tot_cur_bal')"
   ]
  },
  {
   "cell_type": "code",
   "execution_count": 100,
   "metadata": {},
   "outputs": [
    {
     "name": "stdout",
     "output_type": "stream",
     "text": [
      "Unnamed: 0\n",
      "Unnamed: 0 \t\t 0.0 %\n",
      "loan_amnt\n",
      "loan_amnt \t\t 0.0 %\n",
      "term\n",
      "term \t\t 0.0 %\n",
      "sub_grade\n",
      "sub_grade \t\t 0.0 %\n",
      "emp_length\n",
      "emp_length \t\t 6.367842352017571 %\n",
      "home_ownership\n",
      "home_ownership \t\t 0.0 %\n",
      "annual_inc\n",
      "annual_inc \t\t 0.0 %\n",
      "verification_status\n",
      "verification_status \t\t 0.0 %\n",
      "issue_d\n",
      "issue_d \t\t 0.0 %\n",
      "loan_status\n",
      "loan_status \t\t 0.0 %\n",
      "purpose\n",
      "purpose \t\t 0.0 %\n",
      "addr_state\n",
      "addr_state \t\t 0.0 %\n",
      "dti\n",
      "dti \t\t 0.059894236833632514 %\n",
      "delinq_2yrs\n",
      "delinq_2yrs \t\t 0.0 %\n",
      "fico_range_low\n",
      "fico_range_low \t\t 0.0 %\n",
      "fico_range_high\n",
      "fico_range_high \t\t 0.0 %\n",
      "inq_last_6mths\n",
      "inq_last_6mths \t\t 0.0 %\n",
      "open_acc\n",
      "open_acc \t\t 0.0 %\n",
      "pub_rec\n",
      "pub_rec \t\t 0.0 %\n",
      "revol_bal\n",
      "revol_bal \t\t 0.0 %\n",
      "revol_util\n",
      "revol_util \t\t 0.07638940956984647 %\n",
      "total_acc\n",
      "total_acc \t\t 0.0 %\n",
      "collections_12_mths_ex_med\n",
      "collections_12_mths_ex_med \t\t 0.0033519602351664733 %\n",
      "application_type\n",
      "application_type \t\t 0.0 %\n",
      "acc_now_delinq\n",
      "acc_now_delinq \t\t 0.0 %\n",
      "tot_cur_bal\n",
      "tot_cur_bal \t\t 3.564015824780689 %\n",
      "open_acc_6m\n",
      "open_acc_6m \t\t 44.833526659110056 %\n",
      "open_act_il\n",
      "open_act_il \t\t 44.833526659110056 %\n",
      "open_il_12m\n",
      "open_il_12m \t\t 44.833526659110056 %\n",
      "open_il_24m\n",
      "open_il_24m \t\t 44.833526659110056 %\n",
      "mths_since_rcnt_il\n",
      "mths_since_rcnt_il \t\t 46.435940070479376 %\n",
      "total_bal_il\n",
      "total_bal_il \t\t 44.833526659110056 %\n",
      "open_rv_12m\n",
      "open_rv_12m \t\t 44.833526659110056 %\n",
      "open_rv_24m\n",
      "open_rv_24m \t\t 44.833526659110056 %\n",
      "max_bal_bc\n",
      "max_bal_bc \t\t 44.833526659110056 %\n",
      "all_util\n",
      "all_util \t\t 44.841465512298605 %\n",
      "total_rev_hi_lim\n",
      "total_rev_hi_lim \t\t 3.564015824780689 %\n",
      "total_cu_tl\n",
      "total_cu_tl \t\t 44.833526659110056 %\n",
      "acc_open_past_24mths\n",
      "acc_open_past_24mths \t\t 2.4964164898801675 %\n",
      "avg_cur_bal\n",
      "avg_cur_bal \t\t 3.567279575535983 %\n",
      "bc_open_to_buy\n",
      "bc_open_to_buy \t\t 3.5952419806556613 %\n",
      "bc_util\n",
      "bc_util \t\t 3.6471973643007414 %\n",
      "chargeoff_within_12_mths\n",
      "chargeoff_within_12_mths \t\t 0.0033519602351664733 %\n",
      "delinq_amnt\n",
      "delinq_amnt \t\t 0.0 %\n",
      "mo_sin_old_il_acct\n",
      "mo_sin_old_il_acct \t\t 6.45816885940732 %\n",
      "mo_sin_old_rev_tl_op\n",
      "mo_sin_old_rev_tl_op \t\t 3.564104034260562 %\n",
      "mo_sin_rcnt_rev_tl_op\n",
      "mo_sin_rcnt_rev_tl_op \t\t 3.564104034260562 %\n",
      "mo_sin_rcnt_tl\n",
      "mo_sin_rcnt_tl \t\t 3.564015824780689 %\n",
      "mort_acc\n",
      "mort_acc \t\t 2.4964164898801675 %\n",
      "mths_since_recent_bc\n",
      "mths_since_recent_bc \t\t 3.5262621673951298 %\n",
      "mths_since_recent_inq\n",
      "mths_since_recent_inq \t\t 12.388403981775921 %\n",
      "num_accts_ever_120_pd\n",
      "num_accts_ever_120_pd \t\t 3.564015824780689 %\n",
      "num_actv_bc_tl\n",
      "num_actv_bc_tl \t\t 3.564015824780689 %\n",
      "num_actv_rev_tl\n",
      "num_actv_rev_tl \t\t 3.564015824780689 %\n",
      "num_bc_sats\n",
      "num_bc_sats \t\t 2.9487547026678955 %\n",
      "num_bc_tl\n",
      "num_bc_tl \t\t 3.564015824780689 %\n",
      "num_il_tl\n",
      "num_il_tl \t\t 3.564015824780689 %\n",
      "num_op_rev_tl\n",
      "num_op_rev_tl \t\t 3.564015824780689 %\n",
      "num_rev_accts\n",
      "num_rev_accts \t\t 3.564104034260562 %\n",
      "num_rev_tl_bal_gt_0\n",
      "num_rev_tl_bal_gt_0 \t\t 3.564015824780689 %\n",
      "num_sats\n",
      "num_sats \t\t 2.9487547026678955 %\n",
      "num_tl_120dpd_2m\n",
      "num_tl_120dpd_2m \t\t 7.217387852672527 %\n",
      "num_tl_30dpd\n",
      "num_tl_30dpd \t\t 3.564015824780689 %\n",
      "num_tl_90g_dpd_24m\n",
      "num_tl_90g_dpd_24m \t\t 3.564015824780689 %\n",
      "num_tl_op_past_12m\n",
      "num_tl_op_past_12m \t\t 3.564015824780689 %\n",
      "pct_tl_nvr_dlq\n",
      "pct_tl_nvr_dlq \t\t 3.5728367727679693 %\n",
      "percent_bc_gt_75\n",
      "percent_bc_gt_75 \t\t 3.619411378140809 %\n",
      "pub_rec_bankruptcies\n",
      "pub_rec_bankruptcies \t\t 0.03872396166416005 %\n",
      "tot_hi_cred_lim\n",
      "tot_hi_cred_lim \t\t 3.564015824780689 %\n",
      "total_bal_ex_mort\n",
      "total_bal_ex_mort \t\t 2.4964164898801675 %\n",
      "total_bc_limit\n",
      "total_bc_limit \t\t 2.4964164898801675 %\n",
      "total_il_high_credit_limit\n",
      "total_il_high_credit_limit \t\t 3.564015824780689 %\n",
      "issue_d_month\n",
      "issue_d_month \t\t 0.0 %\n",
      "issue_d_year\n",
      "issue_d_year \t\t 0.0 %\n"
     ]
    }
   ],
   "source": [
    "columns = origin_data.columns\n",
    "for column_name in columns:\n",
    "    print(column_name)\n",
    "    print(column_name,'\\t\\t',(origin_data[column_name].isnull().sum()*100/len(origin_data[column_name])),'%')\n"
   ]
  },
  {
   "cell_type": "code",
   "execution_count": 101,
   "metadata": {},
   "outputs": [],
   "source": [
    "# drop할 컬럼들을 일단 처리한다.\n",
    "with open('columns.txt', mode='r') as f:\n",
    "    search_fields = f.readlines()\n",
    "    search_fields = [search_field.strip('\\n') for search_field in search_fields]\n",
    "    search_fields = [search_field.strip('\\t') for search_field in search_fields]\n",
    "    search_fields = [search_field.strip() for search_field in search_fields]"
   ]
  },
  {
   "cell_type": "code",
   "execution_count": 102,
   "metadata": {},
   "outputs": [
    {
     "ename": "KeyError",
     "evalue": "'mths_since_last_delinq'",
     "output_type": "error",
     "traceback": [
      "\u001b[0;31m---------------------------------------------------------------------------\u001b[0m",
      "\u001b[0;31mKeyError\u001b[0m                                  Traceback (most recent call last)",
      "File \u001b[0;32m~/anaconda3/lib/python3.11/site-packages/pandas/core/indexes/base.py:3791\u001b[0m, in \u001b[0;36mIndex.get_loc\u001b[0;34m(self, key)\u001b[0m\n\u001b[1;32m   3790\u001b[0m \u001b[38;5;28;01mtry\u001b[39;00m:\n\u001b[0;32m-> 3791\u001b[0m     \u001b[38;5;28;01mreturn\u001b[39;00m \u001b[38;5;28mself\u001b[39m\u001b[38;5;241m.\u001b[39m_engine\u001b[38;5;241m.\u001b[39mget_loc(casted_key)\n\u001b[1;32m   3792\u001b[0m \u001b[38;5;28;01mexcept\u001b[39;00m \u001b[38;5;167;01mKeyError\u001b[39;00m \u001b[38;5;28;01mas\u001b[39;00m err:\n",
      "File \u001b[0;32mindex.pyx:152\u001b[0m, in \u001b[0;36mpandas._libs.index.IndexEngine.get_loc\u001b[0;34m()\u001b[0m\n",
      "File \u001b[0;32mindex.pyx:181\u001b[0m, in \u001b[0;36mpandas._libs.index.IndexEngine.get_loc\u001b[0;34m()\u001b[0m\n",
      "File \u001b[0;32mpandas/_libs/hashtable_class_helper.pxi:7080\u001b[0m, in \u001b[0;36mpandas._libs.hashtable.PyObjectHashTable.get_item\u001b[0;34m()\u001b[0m\n",
      "File \u001b[0;32mpandas/_libs/hashtable_class_helper.pxi:7088\u001b[0m, in \u001b[0;36mpandas._libs.hashtable.PyObjectHashTable.get_item\u001b[0;34m()\u001b[0m\n",
      "\u001b[0;31mKeyError\u001b[0m: 'mths_since_last_delinq'",
      "\nThe above exception was the direct cause of the following exception:\n",
      "\u001b[0;31mKeyError\u001b[0m                                  Traceback (most recent call last)",
      "Cell \u001b[0;32mIn[102], line 1\u001b[0m\n\u001b[0;32m----> 1\u001b[0m printing_null(\u001b[38;5;124m\"\u001b[39m\u001b[38;5;124mmths_since_last_delinq\u001b[39m\u001b[38;5;124m\"\u001b[39m)\n",
      "Cell \u001b[0;32mIn[95], line 2\u001b[0m, in \u001b[0;36mprinting_null\u001b[0;34m(column_name)\u001b[0m\n\u001b[1;32m      1\u001b[0m \u001b[38;5;28;01mdef\u001b[39;00m \u001b[38;5;21mprinting_null\u001b[39m(column_name:\u001b[38;5;28mstr\u001b[39m)\u001b[38;5;241m-\u001b[39m\u001b[38;5;241m>\u001b[39m\u001b[38;5;28;01mNone\u001b[39;00m:\n\u001b[0;32m----> 2\u001b[0m     f_df \u001b[38;5;241m=\u001b[39m origin_data[origin_data[column_name]\u001b[38;5;241m.\u001b[39misna()]\n\u001b[1;32m      3\u001b[0m     rtn \u001b[38;5;241m=\u001b[39m f_df[\u001b[38;5;124m'\u001b[39m\u001b[38;5;124missue_d_year\u001b[39m\u001b[38;5;124m'\u001b[39m]\u001b[38;5;241m.\u001b[39mvalue_counts()\n\u001b[1;32m      4\u001b[0m     \u001b[38;5;28mprint\u001b[39m(\u001b[38;5;124m'\u001b[39m\u001b[38;5;124m===============\u001b[39m\u001b[38;5;124m'\u001b[39m,column_name)\n",
      "File \u001b[0;32m~/anaconda3/lib/python3.11/site-packages/pandas/core/frame.py:3893\u001b[0m, in \u001b[0;36mDataFrame.__getitem__\u001b[0;34m(self, key)\u001b[0m\n\u001b[1;32m   3891\u001b[0m \u001b[38;5;28;01mif\u001b[39;00m \u001b[38;5;28mself\u001b[39m\u001b[38;5;241m.\u001b[39mcolumns\u001b[38;5;241m.\u001b[39mnlevels \u001b[38;5;241m>\u001b[39m \u001b[38;5;241m1\u001b[39m:\n\u001b[1;32m   3892\u001b[0m     \u001b[38;5;28;01mreturn\u001b[39;00m \u001b[38;5;28mself\u001b[39m\u001b[38;5;241m.\u001b[39m_getitem_multilevel(key)\n\u001b[0;32m-> 3893\u001b[0m indexer \u001b[38;5;241m=\u001b[39m \u001b[38;5;28mself\u001b[39m\u001b[38;5;241m.\u001b[39mcolumns\u001b[38;5;241m.\u001b[39mget_loc(key)\n\u001b[1;32m   3894\u001b[0m \u001b[38;5;28;01mif\u001b[39;00m is_integer(indexer):\n\u001b[1;32m   3895\u001b[0m     indexer \u001b[38;5;241m=\u001b[39m [indexer]\n",
      "File \u001b[0;32m~/anaconda3/lib/python3.11/site-packages/pandas/core/indexes/base.py:3798\u001b[0m, in \u001b[0;36mIndex.get_loc\u001b[0;34m(self, key)\u001b[0m\n\u001b[1;32m   3793\u001b[0m     \u001b[38;5;28;01mif\u001b[39;00m \u001b[38;5;28misinstance\u001b[39m(casted_key, \u001b[38;5;28mslice\u001b[39m) \u001b[38;5;129;01mor\u001b[39;00m (\n\u001b[1;32m   3794\u001b[0m         \u001b[38;5;28misinstance\u001b[39m(casted_key, abc\u001b[38;5;241m.\u001b[39mIterable)\n\u001b[1;32m   3795\u001b[0m         \u001b[38;5;129;01mand\u001b[39;00m \u001b[38;5;28many\u001b[39m(\u001b[38;5;28misinstance\u001b[39m(x, \u001b[38;5;28mslice\u001b[39m) \u001b[38;5;28;01mfor\u001b[39;00m x \u001b[38;5;129;01min\u001b[39;00m casted_key)\n\u001b[1;32m   3796\u001b[0m     ):\n\u001b[1;32m   3797\u001b[0m         \u001b[38;5;28;01mraise\u001b[39;00m InvalidIndexError(key)\n\u001b[0;32m-> 3798\u001b[0m     \u001b[38;5;28;01mraise\u001b[39;00m \u001b[38;5;167;01mKeyError\u001b[39;00m(key) \u001b[38;5;28;01mfrom\u001b[39;00m \u001b[38;5;21;01merr\u001b[39;00m\n\u001b[1;32m   3799\u001b[0m \u001b[38;5;28;01mexcept\u001b[39;00m \u001b[38;5;167;01mTypeError\u001b[39;00m:\n\u001b[1;32m   3800\u001b[0m     \u001b[38;5;66;03m# If we have a listlike key, _check_indexing_error will raise\u001b[39;00m\n\u001b[1;32m   3801\u001b[0m     \u001b[38;5;66;03m#  InvalidIndexError. Otherwise we fall through and re-raise\u001b[39;00m\n\u001b[1;32m   3802\u001b[0m     \u001b[38;5;66;03m#  the TypeError.\u001b[39;00m\n\u001b[1;32m   3803\u001b[0m     \u001b[38;5;28mself\u001b[39m\u001b[38;5;241m.\u001b[39m_check_indexing_error(key)\n",
      "\u001b[0;31mKeyError\u001b[0m: 'mths_since_last_delinq'"
     ]
    }
   ],
   "source": [
    "printing_null(\"mths_since_last_delinq\")"
   ]
  },
  {
   "cell_type": "code",
   "execution_count": null,
   "metadata": {},
   "outputs": [
    {
     "data": {
      "text/plain": [
       "bc_open_to_buy\n",
       "0.0         16460\n",
       "500.0         995\n",
       "2000.0        960\n",
       "1000.0        878\n",
       "3000.0        827\n",
       "            ...  \n",
       "81989.0         1\n",
       "49058.0         1\n",
       "115045.0        1\n",
       "51711.0         1\n",
       "96107.0         1\n",
       "Name: count, Length: 74710, dtype: int64"
      ]
     },
     "execution_count": 289,
     "metadata": {},
     "output_type": "execute_result"
    }
   ],
   "source": [
    "origin_data['bc_open_to_buy'].value_counts()"
   ]
  },
  {
   "cell_type": "code",
   "execution_count": null,
   "metadata": {},
   "outputs": [],
   "source": []
  }
 ],
 "metadata": {
  "kernelspec": {
   "display_name": "tf",
   "language": "python",
   "name": "tf"
  },
  "language_info": {
   "codemirror_mode": {
    "name": "ipython",
    "version": 3
   },
   "file_extension": ".py",
   "mimetype": "text/x-python",
   "name": "python",
   "nbconvert_exporter": "python",
   "pygments_lexer": "ipython3",
   "version": "3.11.5"
  }
 },
 "nbformat": 4,
 "nbformat_minor": 2
}
